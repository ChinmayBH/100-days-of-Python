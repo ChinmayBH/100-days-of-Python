{
 "cells": [
  {
   "cell_type": "code",
   "execution_count": 1,
   "id": "6ce0f707-ae99-4daa-90e4-55882ab131ad",
   "metadata": {},
   "outputs": [],
   "source": [
    "## Mean"
   ]
  },
  {
   "cell_type": "code",
   "execution_count": 4,
   "id": "912feff9-c3c4-49a9-899e-b76d51bc0d40",
   "metadata": {},
   "outputs": [
    {
     "name": "stdout",
     "output_type": "stream",
     "text": [
      "total elements:  13\n",
      "mean:  6.15\n"
     ]
    }
   ],
   "source": [
    "l1 = [2,5,7,8,3,6,9,6,4,6,7,8,9]\n",
    "total = 0\n",
    "for i in l1:\n",
    "    total+=i\n",
    "    avg = total/len(l1)\n",
    "print(\"total elements: \",len(l1))\n",
    "print(\"mean: \",round(avg,2))"
   ]
  },
  {
   "cell_type": "code",
   "execution_count": 5,
   "id": "4a9e980a-ac0a-49bd-b229-ee2dcf4edc19",
   "metadata": {},
   "outputs": [],
   "source": [
    "import statistics"
   ]
  },
  {
   "cell_type": "code",
   "execution_count": 6,
   "id": "784932b0-823c-431f-aaea-6d49cec0f249",
   "metadata": {},
   "outputs": [
    {
     "data": {
      "text/plain": [
       "6.153846153846154"
      ]
     },
     "execution_count": 6,
     "metadata": {},
     "output_type": "execute_result"
    }
   ],
   "source": [
    "w = statistics.mean(l1)\n",
    "w"
   ]
  },
  {
   "cell_type": "code",
   "execution_count": 7,
   "id": "4da33a31-c489-4dc1-afa3-1928018a1f31",
   "metadata": {},
   "outputs": [],
   "source": [
    "## Mode"
   ]
  },
  {
   "cell_type": "code",
   "execution_count": 10,
   "id": "7d6e00e6-6089-4303-a82b-10a8f8885cb3",
   "metadata": {},
   "outputs": [
    {
     "ename": "TypeError",
     "evalue": "argument of type 'int' is not iterable",
     "output_type": "error",
     "traceback": [
      "\u001b[1;31m---------------------------------------------------------------------------\u001b[0m",
      "\u001b[1;31mTypeError\u001b[0m                                 Traceback (most recent call last)",
      "Cell \u001b[1;32mIn[10], line 4\u001b[0m\n\u001b[0;32m      2\u001b[0m freq \u001b[38;5;241m=\u001b[39m {}\n\u001b[0;32m      3\u001b[0m \u001b[38;5;28;01mfor\u001b[39;00m i \u001b[38;5;129;01min\u001b[39;00m l1:\n\u001b[1;32m----> 4\u001b[0m     \u001b[38;5;28;01mif\u001b[39;00m \u001b[43mi\u001b[49m\u001b[43m \u001b[49m\u001b[38;5;129;43;01min\u001b[39;49;00m\u001b[43m \u001b[49m\u001b[43mfreq\u001b[49m:\n\u001b[0;32m      5\u001b[0m         freq[i]\u001b[38;5;241m+\u001b[39m\u001b[38;5;241m=\u001b[39m\u001b[38;5;241m1\u001b[39m\n\u001b[0;32m      6\u001b[0m     \u001b[38;5;28;01melse\u001b[39;00m:\n",
      "\u001b[1;31mTypeError\u001b[0m: argument of type 'int' is not iterable"
     ]
    }
   ],
   "source": [
    "l1 = [2,5,7,8,3,6,9,6,4,6,7,8,9]\n",
    "freq = {}\n",
    "for i in l1:\n",
    "    if i in freq:\n",
    "        freq[i]+=1\n",
    "    else:\n",
    "        freq=1\n",
    "    \n",
    "    "
   ]
  },
  {
   "cell_type": "code",
   "execution_count": 9,
   "id": "39644c87-7a9f-43f4-89a8-9540b3ade266",
   "metadata": {},
   "outputs": [
    {
     "name": "stdout",
     "output_type": "stream",
     "text": [
      "The mode(s) is/are: [4]\n"
     ]
    }
   ],
   "source": [
    "# Example list\n",
    "data = [1, 2, 2, 3, 4, 4, 4, 5]\n",
    "\n",
    "# Initialize a dictionary to count occurrences\n",
    "frequency = {}\n",
    "\n",
    "# Count the occurrences of each number\n",
    "for num in data:\n",
    "    if num in frequency:\n",
    "        frequency[num] += 1\n",
    "    else:\n",
    "        frequency[num] = 1\n",
    "\n",
    "# Find the maximum frequency\n",
    "max_frequency = max(frequency.values())\n",
    "\n",
    "# Find all numbers with the maximum frequency\n",
    "modes = [key for key, val in frequency.items() if val == max_frequency]\n",
    "\n",
    "print(f\"The mode(s) is/are: {modes}\")\n"
   ]
  },
  {
   "cell_type": "code",
   "execution_count": 11,
   "id": "155e0b23-3869-47c2-90bb-48a6baf64f94",
   "metadata": {},
   "outputs": [
    {
     "data": {
      "text/plain": [
       "6"
      ]
     },
     "execution_count": 11,
     "metadata": {},
     "output_type": "execute_result"
    }
   ],
   "source": [
    "statistics.mode(l1)"
   ]
  },
  {
   "cell_type": "code",
   "execution_count": 12,
   "id": "bde47ddf-789e-4589-990c-c04e9344a1f3",
   "metadata": {},
   "outputs": [],
   "source": [
    "## median"
   ]
  },
  {
   "cell_type": "code",
   "execution_count": 55,
   "id": "46506db1-9cf1-47fc-993c-1845297de0d8",
   "metadata": {},
   "outputs": [
    {
     "name": "stdout",
     "output_type": "stream",
     "text": [
      "[2, 3, 5, 7, 8]\n",
      "Length is odd\n",
      "median is: 5\n"
     ]
    }
   ],
   "source": [
    "l1 = [2,5,7,8,3]\n",
    "l1.sort()\n",
    "print(l1)\n",
    "if len(l1) %2 != 0:\n",
    "    print(\"Length is odd\")\n",
    "    middle = round(len(l1)/2)\n",
    "\n",
    "    print(\"median is:\", l1[middle])\n",
    "    \n",
    "else:\n",
    "    f1 = round(len(l1)/2)\n",
    "    f2 = round(len(l1)/2) + 1\n",
    "    print(f1,f2)\n",
    "    print(\"length is even\")\n",
    "    median = (l1[f1-1] + l1[f2-1] ) / 2\n",
    "    print(median)"
   ]
  },
  {
   "cell_type": "code",
   "execution_count": 24,
   "id": "3009520d-a948-4e37-b1cd-c80c9bc80740",
   "metadata": {},
   "outputs": [
    {
     "data": {
      "text/plain": [
       "6.5"
      ]
     },
     "execution_count": 24,
     "metadata": {},
     "output_type": "execute_result"
    }
   ],
   "source": [
    "len(l1)/2"
   ]
  },
  {
   "cell_type": "code",
   "execution_count": 56,
   "id": "794135f2-6061-43db-952f-a51992172473",
   "metadata": {},
   "outputs": [
    {
     "data": {
      "text/plain": [
       "5"
      ]
     },
     "execution_count": 56,
     "metadata": {},
     "output_type": "execute_result"
    }
   ],
   "source": [
    "statistics.median(l1)"
   ]
  },
  {
   "cell_type": "code",
   "execution_count": 57,
   "id": "fa42aadb-5800-4760-8c9c-7dd52089ddf6",
   "metadata": {},
   "outputs": [],
   "source": [
    "###################################################################\n",
    "\n"
   ]
  },
  {
   "cell_type": "code",
   "execution_count": 58,
   "id": "dfdb3853-4a29-4729-98fa-f393dd23f0f8",
   "metadata": {},
   "outputs": [],
   "source": [
    "# Variance is a statistical measure that quantifies the degree of spread or dispersion in a dataset. \n",
    "#It represents how far individual data points are from the mean (average) and thus from each other.\n",
    "#Variance is commonly used in probability, statistics, and data analysis."
   ]
  },
  {
   "cell_type": "code",
   "execution_count": 59,
   "id": "25d31556-0019-4a3c-a514-b3e11094d2b7",
   "metadata": {},
   "outputs": [],
   "source": [
    "l2 =[ 2,4,6,8]"
   ]
  },
  {
   "cell_type": "markdown",
   "id": "c3b94b27-3687-47d6-8c96-9790127d5ad6",
   "metadata": {},
   "source": [
    "1) find out mean"
   ]
  },
  {
   "cell_type": "code",
   "execution_count": 61,
   "id": "b93a0e89-af1a-4c88-892e-9b38c4659c39",
   "metadata": {},
   "outputs": [
    {
     "name": "stdout",
     "output_type": "stream",
     "text": [
      "5.0\n"
     ]
    }
   ],
   "source": [
    "\n",
    "total = 0\n",
    "for i in l2:\n",
    "    total+=i\n",
    "    avg = total/len(l2)\n",
    "print(avg)"
   ]
  },
  {
   "cell_type": "code",
   "execution_count": null,
   "id": "da8fa9ed-c053-4584-8a71-363abb17020d",
   "metadata": {},
   "outputs": [],
   "source": [
    "2) find out square differences"
   ]
  },
  {
   "cell_type": "code",
   "execution_count": 62,
   "id": "2efb5920-abcc-4940-90e3-fbfb13f4da4a",
   "metadata": {},
   "outputs": [
    {
     "name": "stdout",
     "output_type": "stream",
     "text": [
      "[9.0, 1.0, 1.0, 9.0]\n"
     ]
    }
   ],
   "source": [
    "sq_diff = []\n",
    "for i in l2:\n",
    "    sq_diff.append((i-avg)**2)\n",
    "print(sq_diff)"
   ]
  },
  {
   "cell_type": "code",
   "execution_count": 63,
   "id": "1f1142ee-0fbf-4fc8-a4f4-7882ddd6688f",
   "metadata": {},
   "outputs": [
    {
     "name": "stdout",
     "output_type": "stream",
     "text": [
      "5.0\n"
     ]
    }
   ],
   "source": [
    "total = 0\n",
    "for i in sq_diff:\n",
    "    total+=i\n",
    "    var = total/len(l2)\n",
    "print(var)"
   ]
  },
  {
   "cell_type": "code",
   "execution_count": null,
   "id": "38b7f66e-4c24-440c-aec6-6a518a14977b",
   "metadata": {},
   "outputs": [],
   "source": []
  },
  {
   "cell_type": "code",
   "execution_count": null,
   "id": "7992048e-4036-4fc9-a4c5-069b5599e356",
   "metadata": {},
   "outputs": [],
   "source": [
    "## standard deviation "
   ]
  },
  {
   "cell_type": "code",
   "execution_count": null,
   "id": "decc73e7-23c1-4842-8a96-7af1e11d751f",
   "metadata": {},
   "outputs": [],
   "source": []
  }
 ],
 "metadata": {
  "kernelspec": {
   "display_name": "Python 3 (ipykernel)",
   "language": "python",
   "name": "python3"
  },
  "language_info": {
   "codemirror_mode": {
    "name": "ipython",
    "version": 3
   },
   "file_extension": ".py",
   "mimetype": "text/x-python",
   "name": "python",
   "nbconvert_exporter": "python",
   "pygments_lexer": "ipython3",
   "version": "3.11.9"
  }
 },
 "nbformat": 4,
 "nbformat_minor": 5
}
