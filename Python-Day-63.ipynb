{
 "cells": [
  {
   "cell_type": "code",
   "execution_count": null,
   "id": "8eb845ae-c7e2-43c6-a35d-f5a464bf037d",
   "metadata": {},
   "outputs": [],
   "source": [
    "\"\"\"\n",
    "Find largest number in list\n",
    "\"\"\""
   ]
  },
  {
   "cell_type": "code",
   "execution_count": 9,
   "id": "45bf6f7a-8b1c-496f-a63f-356f5cc8e66f",
   "metadata": {},
   "outputs": [
    {
     "data": {
      "text/plain": [
       "11"
      ]
     },
     "execution_count": 9,
     "metadata": {},
     "output_type": "execute_result"
    }
   ],
   "source": [
    "l1 = [2,4,11,5,6,7,8,9,0]\n",
    "\n",
    "# method 1\n",
    "\n",
    "#l1.sort()\n",
    "#l1[-1]\n",
    "\n",
    "# method 2\n",
    "\n",
    "highest_num = l1[0]\n",
    "for i in l1:\n",
    "    if i > highest_num:\n",
    "        highest_num = i\n",
    "    else:\n",
    "        pass\n",
    "highest_num"
   ]
  },
  {
   "cell_type": "code",
   "execution_count": null,
   "id": "a5c64a1b-e6a8-4eb6-8285-6a75e11adad4",
   "metadata": {},
   "outputs": [],
   "source": [
    "\"\"\"\n",
    "Write a lambda function to sort a list of tuples by the second element.\n",
    "\"\"\""
   ]
  },
  {
   "cell_type": "code",
   "execution_count": 21,
   "id": "1e9c4837-eee1-4d23-9024-6cb6c4c9126f",
   "metadata": {},
   "outputs": [
    {
     "data": {
      "text/plain": [
       "[(1, 2, 3), (5, 6, 7), (8, 6, 2)]"
      ]
     },
     "execution_count": 21,
     "metadata": {},
     "output_type": "execute_result"
    }
   ],
   "source": [
    "l2 = [(1,2,3),(5,6,7),(8,6,2)]\n",
    "sorted(l2,key = lambda x:x[1])"
   ]
  },
  {
   "cell_type": "code",
   "execution_count": null,
   "id": "1324f654-1f5b-495b-a17d-f07af684f8f6",
   "metadata": {},
   "outputs": [],
   "source": [
    "\"\"\"\n",
    "Read a file and count the number of lines.\n",
    "\"\"\""
   ]
  },
  {
   "cell_type": "code",
   "execution_count": 34,
   "id": "f0e6d3a1-df46-48ec-a80e-a72681a27019",
   "metadata": {},
   "outputs": [],
   "source": [
    "with open(r\"C:\\Users\\ChinmayB.WINJITBIOS\\Desktop\\uvir.txt\" ,\"r\") as file:\n",
    "    sent = file.readlines()\n",
    "    sent"
   ]
  },
  {
   "cell_type": "code",
   "execution_count": 35,
   "id": "b2b412ad-4ae0-4c4f-b950-c117789d87c2",
   "metadata": {},
   "outputs": [
    {
     "data": {
      "text/plain": [
       "6"
      ]
     },
     "execution_count": 35,
     "metadata": {},
     "output_type": "execute_result"
    }
   ],
   "source": [
    "len(sent)"
   ]
  },
  {
   "cell_type": "code",
   "execution_count": null,
   "id": "328f878f-84c4-4ba3-b39b-7f52c3b313a9",
   "metadata": {},
   "outputs": [],
   "source": [
    "\"\"\"\n",
    "Write a program to handle division by zero.\n",
    "\"\"\""
   ]
  },
  {
   "cell_type": "code",
   "execution_count": 40,
   "id": "a1ac1c60-61dc-4ad8-a247-76dccfe8b74d",
   "metadata": {},
   "outputs": [
    {
     "name": "stdin",
     "output_type": "stream",
     "text": [
      "enter a number  0\n"
     ]
    },
    {
     "name": "stdout",
     "output_type": "stream",
     "text": [
      "dont be too smart\n"
     ]
    }
   ],
   "source": [
    "num = int(input(\"enter a number \"))\n",
    "try:\n",
    "    div = 100/num\n",
    "except ZeroDivisionError:\n",
    "    print(\"dont be too smart\")\n"
   ]
  },
  {
   "cell_type": "code",
   "execution_count": null,
   "id": "9f9793d1-1e52-4729-8724-370be1cc0f3b",
   "metadata": {},
   "outputs": [],
   "source": [
    "\"\"\"\n",
    "Create your own module and import it.\n",
    "\"\"\""
   ]
  },
  {
   "cell_type": "code",
   "execution_count": null,
   "id": "af6e73f7-4933-4564-9f57-dbdc4b10945c",
   "metadata": {},
   "outputs": [],
   "source": [
    "\"\"\"\n",
    "Calculate the difference between two dates.\n",
    "\"\"\""
   ]
  },
  {
   "cell_type": "code",
   "execution_count": 41,
   "id": "0b06d38c-5dae-4daf-bb5c-92d4aaea8eb6",
   "metadata": {},
   "outputs": [
    {
     "name": "stdout",
     "output_type": "stream",
     "text": [
      "Difference between the dates: 35 days, 0:00:00\n",
      "Difference in days: 35\n"
     ]
    }
   ],
   "source": [
    "from datetime import datetime\n",
    "\n",
    "# Define two dates\n",
    "date1 = datetime(2023, 10, 15)  # Year, Month, Day\n",
    "date2 = datetime(2023, 9, 10)   # Year, Month, Day\n",
    "\n",
    "# Calculate the difference between the two dates\n",
    "difference = date1 - date2\n",
    "\n",
    "# Print the difference\n",
    "print(\"Difference between the dates:\", difference)\n",
    "print(\"Difference in days:\", difference.days)"
   ]
  },
  {
   "cell_type": "code",
   "execution_count": null,
   "id": "f00b6376-f259-4c7b-8ef8-94f4dae639ab",
   "metadata": {},
   "outputs": [],
   "source": [
    "\"\"\"\n",
    "Create a generator to yield Fibonacci numbers.\n",
    "\"\"\""
   ]
  },
  {
   "cell_type": "code",
   "execution_count": 47,
   "id": "f57a1dd3-cd71-4b01-a64c-4f8c1c2c85d6",
   "metadata": {},
   "outputs": [
    {
     "name": "stdout",
     "output_type": "stream",
     "text": [
      "0\n",
      "1\n",
      "1\n",
      "2\n",
      "3\n",
      "5\n",
      "8\n",
      "13\n"
     ]
    }
   ],
   "source": [
    "a = 0\n",
    "b = 1\n",
    "\n",
    "num = 5\n",
    "for i in range(0,8):\n",
    "    print(a)\n",
    "    a,b= b, a+ b\n",
    "\n",
    "\n",
    "\n"
   ]
  },
  {
   "cell_type": "code",
   "execution_count": 44,
   "id": "e861d4f8-4b95-4888-aadb-1cee39e697be",
   "metadata": {},
   "outputs": [
    {
     "data": {
      "text/plain": [
       "7"
      ]
     },
     "execution_count": 44,
     "metadata": {},
     "output_type": "execute_result"
    }
   ],
   "source": [
    "a\n"
   ]
  },
  {
   "cell_type": "code",
   "execution_count": 48,
   "id": "78f1f2e0-1333-4544-bd3b-415d90b0fb6a",
   "metadata": {},
   "outputs": [
    {
     "name": "stdout",
     "output_type": "stream",
     "text": [
      "0\n",
      "1\n",
      "1\n",
      "2\n",
      "3\n",
      "5\n",
      "8\n",
      "13\n",
      "21\n",
      "34\n"
     ]
    }
   ],
   "source": [
    "def fibonacci_generator():\n",
    "    # Initialize the first two Fibonacci numbers\n",
    "    a, b = 0, 1\n",
    "    \n",
    "    # Infinite loop to generate Fibonacci numbers\n",
    "    while True:\n",
    "        # Yield the current Fibonacci number\n",
    "        yield a\n",
    "        \n",
    "        # Update the values of a and b\n",
    "        a, b = b, a + b\n",
    "\n",
    "# Create a generator object\n",
    "fib_gen = fibonacci_generator()\n",
    "\n",
    "# Generate and print the first 10 Fibonacci numbers\n",
    "for _ in range(10):\n",
    "    print(next(fib_gen))"
   ]
  },
  {
   "cell_type": "code",
   "execution_count": 49,
   "id": "ef26dafb-5e87-4dba-be1f-9178e95f32ea",
   "metadata": {},
   "outputs": [],
   "source": [
    "# Write a decorator to measure the execution time of a function.\n"
   ]
  },
  {
   "cell_type": "code",
   "execution_count": 58,
   "id": "6f3ddfb7-fb48-4ad1-92fc-9c0c752e345f",
   "metadata": {},
   "outputs": [],
   "source": [
    "import time\n",
    "\n",
    "def add(a,b):\n",
    "    start_time = time.time()\n",
    "    print(\"a\\n:\",a)\n",
    "    print(\"b\\n\",b)\n",
    "    end_time = time.time()\n",
    "    total_time = end_time - start_time\n",
    "    return f\" the addition is : {a+b} with {total_time} this much time\""
   ]
  },
  {
   "cell_type": "code",
   "execution_count": 59,
   "id": "4d009f51-a0b7-40d8-8aa7-fbd94a8a090f",
   "metadata": {},
   "outputs": [
    {
     "name": "stdout",
     "output_type": "stream",
     "text": [
      "a\n",
      ": 3\n",
      "b\n",
      " 4\n"
     ]
    },
    {
     "data": {
      "text/plain": [
       "' the addition is : 7 with 0.000926971435546875 this much time'"
      ]
     },
     "execution_count": 59,
     "metadata": {},
     "output_type": "execute_result"
    }
   ],
   "source": [
    "add(3,4)"
   ]
  },
  {
   "cell_type": "code",
   "execution_count": null,
   "id": "4d97c188-e021-4ae4-a08d-2e8127ff3e7b",
   "metadata": {},
   "outputs": [],
   "source": []
  }
 ],
 "metadata": {
  "kernelspec": {
   "display_name": "Python 3 (ipykernel)",
   "language": "python",
   "name": "python3"
  },
  "language_info": {
   "codemirror_mode": {
    "name": "ipython",
    "version": 3
   },
   "file_extension": ".py",
   "mimetype": "text/x-python",
   "name": "python",
   "nbconvert_exporter": "python",
   "pygments_lexer": "ipython3",
   "version": "3.11.9"
  }
 },
 "nbformat": 4,
 "nbformat_minor": 5
}
