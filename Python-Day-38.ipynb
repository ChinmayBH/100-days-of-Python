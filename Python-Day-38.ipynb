{
 "cells": [
  {
   "cell_type": "code",
   "execution_count": null,
   "id": "8247b98e-d4e8-48fe-98af-d61baa725a87",
   "metadata": {},
   "outputs": [],
   "source": [
    "Write a Python program to swap two numbers without using a temporary variable.\n"
   ]
  },
  {
   "cell_type": "code",
   "execution_count": 16,
   "id": "97736c5c-96ef-432c-85f4-5ed67d778924",
   "metadata": {},
   "outputs": [
    {
     "name": "stdout",
     "output_type": "stream",
     "text": [
      "a: 5 b: 4\n"
     ]
    }
   ],
   "source": [
    "# normal swapping \n",
    "\n",
    "a = 4\n",
    "b = 5\n",
    "c = a + b\n",
    "a = c - a\n",
    "b = c- b\n",
    "print(\"a:\",a,\"b:\",b)\n",
    "\n",
    "# Python swapping \n",
    "a,b = b,a"
   ]
  },
  {
   "cell_type": "code",
   "execution_count": null,
   "id": "70aa1792-96c8-4bf5-85c6-9c2bbd23c357",
   "metadata": {},
   "outputs": [],
   "source": [
    "Take user input for name, age, and city, and print a formatted message like \"Hi [Name], you are [Age] years old and live in [City].\"\n"
   ]
  },
  {
   "cell_type": "code",
   "execution_count": 21,
   "id": "1c2f33f0-9bc9-4d01-ad76-95bf61fa40d9",
   "metadata": {},
   "outputs": [
    {
     "name": "stdin",
     "output_type": "stream",
     "text": [
      "Please enter your name: Chinmay\n",
      "please enter your age: 27\n",
      "please enter your city:  nashik\n"
     ]
    },
    {
     "data": {
      "text/plain": [
       "'Hi Chinmay, you are 27 years old and live in nashik'"
      ]
     },
     "execution_count": 21,
     "metadata": {},
     "output_type": "execute_result"
    }
   ],
   "source": [
    "def greeting():\n",
    "    name = input(\"Please enter your name:\" )\n",
    "    Age = input(\"please enter your age:\" )\n",
    "    city = input(\"please enter your city: \")\n",
    "    return f\"Hi {name}, you are {Age} years old and live in {city}\"\n",
    "\n",
    "e = greeting()\n",
    "e"
   ]
  },
  {
   "cell_type": "code",
   "execution_count": null,
   "id": "665891b5-a729-40ce-a8c5-6fd3e6df76b5",
   "metadata": {},
   "outputs": [],
   "source": [
    "Write a program to find the area of a rectangle given its length and width as input.\n"
   ]
  },
  {
   "cell_type": "code",
   "execution_count": 22,
   "id": "b49b9cf2-705b-403f-9d2b-ed51f0106da6",
   "metadata": {},
   "outputs": [],
   "source": [
    "def area_of_rect():\n",
    "    length = float(input(\"enter length:\" ))\n",
    "    wdt = float(input(\"enter width:\" ))\n",
    "    return length * wdt"
   ]
  },
  {
   "cell_type": "code",
   "execution_count": 23,
   "id": "0dca1417-075b-493b-a8d5-55958a1608ed",
   "metadata": {},
   "outputs": [
    {
     "name": "stdin",
     "output_type": "stream",
     "text": [
      "enter length: 5.78\n",
      "enter width: 5.78\n"
     ]
    },
    {
     "data": {
      "text/plain": [
       "33.4084"
      ]
     },
     "execution_count": 23,
     "metadata": {},
     "output_type": "execute_result"
    }
   ],
   "source": [
    "area = area_of_rect()\n",
    "area"
   ]
  },
  {
   "cell_type": "code",
   "execution_count": null,
   "id": "eefc1e8c-956e-4874-8cf0-3287aa3e5773",
   "metadata": {},
   "outputs": [],
   "source": [
    "Convert a temperature given in Fahrenheit to Celsius.\n"
   ]
  },
  {
   "cell_type": "code",
   "execution_count": 24,
   "id": "174d901b-b297-4610-be1d-903b0df7fda0",
   "metadata": {},
   "outputs": [
    {
     "data": {
      "text/plain": [
       "7.222222222222222"
      ]
     },
     "execution_count": 24,
     "metadata": {},
     "output_type": "execute_result"
    }
   ],
   "source": [
    "def far_to_cel(num):\n",
    "    return (num - 32) * (5/9)\n",
    "cov = far_to_cel(45)\n",
    "cov"
   ]
  },
  {
   "cell_type": "code",
   "execution_count": null,
   "id": "b3051931-f3dc-46db-837b-28185c982f4d",
   "metadata": {},
   "outputs": [],
   "source": [
    "Write a program to calculate the sum of three numbers. If the numbers are the same, return thrice their sum.\n"
   ]
  },
  {
   "cell_type": "code",
   "execution_count": 28,
   "id": "43e2539a-aac1-4d1d-b6a9-522c7567ad24",
   "metadata": {},
   "outputs": [
    {
     "name": "stdin",
     "output_type": "stream",
     "text": [
      " 5\n",
      " 5\n",
      " 5\n"
     ]
    },
    {
     "name": "stdout",
     "output_type": "stream",
     "text": [
      "45\n"
     ]
    }
   ],
   "source": [
    "num1 = int(input())\n",
    "num2 = int(input())\n",
    "num3 = int(input())\n",
    "sum1 = num1 + num2 + num3\n",
    "if num1 == num2 == num3:\n",
    "    sum1 = sum1*3\n",
    "    print(sum1)\n",
    "else:\n",
    "    print(sum1)"
   ]
  },
  {
   "cell_type": "code",
   "execution_count": null,
   "id": "6b5a88c6-a48a-418a-95fd-bed6561708ef",
   "metadata": {},
   "outputs": [],
   "source": [
    "Check if a given number is positive, negative, or zero.\n"
   ]
  },
  {
   "cell_type": "code",
   "execution_count": 4,
   "id": "b8e6b765-02c3-4b2b-9b04-2555abe3402e",
   "metadata": {},
   "outputs": [
    {
     "name": "stdin",
     "output_type": "stream",
     "text": [
      " -5\n"
     ]
    },
    {
     "name": "stdout",
     "output_type": "stream",
     "text": [
      "num is negetive\n"
     ]
    }
   ],
   "source": [
    "num = float(input())\n",
    "if num > 0:\n",
    "    print(\"Num is positive\")\n",
    "if num == 0:\n",
    "    print(\"num is zero\")\n",
    "if num < 0:\n",
    "    print(\"num is negetive\")"
   ]
  },
  {
   "cell_type": "code",
   "execution_count": null,
   "id": "40b18007-6f94-4b0f-9184-0ca66b534eab",
   "metadata": {},
   "outputs": [],
   "source": [
    "Write a program to count the number of vowels in a given string.\n"
   ]
  },
  {
   "cell_type": "code",
   "execution_count": 8,
   "id": "dd2a6c9f-a291-49c0-af0a-cf343fea483d",
   "metadata": {},
   "outputs": [
    {
     "data": {
      "text/plain": [
       "['I', 'A']"
      ]
     },
     "execution_count": 8,
     "metadata": {},
     "output_type": "execute_result"
    }
   ],
   "source": [
    "vowels = [\"a\",\"e\",\"i\",\"o\",\"u\"]\n",
    "st = \"CHINMAY\"\n",
    "vov = []\n",
    "for i in st:\n",
    "    for j in vowels:\n",
    "        if i.lower() == j:\n",
    "            vov.append(i)\n",
    "        else:\n",
    "            pass\n",
    "vov"
   ]
  },
  {
   "cell_type": "code",
   "execution_count": 9,
   "id": "1d1a905b-92d1-4392-bd7e-0afaf5221e1b",
   "metadata": {},
   "outputs": [
    {
     "data": {
      "text/plain": [
       "['i', 'a']"
      ]
     },
     "execution_count": 9,
     "metadata": {},
     "output_type": "execute_result"
    }
   ],
   "source": [
    "vov = [i for i in st.lower() if i in vowels]\n",
    "vov"
   ]
  },
  {
   "cell_type": "code",
   "execution_count": null,
   "id": "9b7e45c1-eda2-4ca4-b9b0-30556348c23c",
   "metadata": {},
   "outputs": [],
   "source": [
    "Check if a string is a palindrome (e.g., \"madam\" or \"racecar\").\n"
   ]
  },
  {
   "cell_type": "code",
   "execution_count": 12,
   "id": "9de39491-c9a1-4271-b782-e19745363e31",
   "metadata": {},
   "outputs": [
    {
     "name": "stdout",
     "output_type": "stream",
     "text": [
      "it is pallindorome\n"
     ]
    }
   ],
   "source": [
    "st = \"madam\"\n",
    "st_new = st[::-1]\n",
    "if st == st_new:\n",
    "    print(\"it is pallindorome\")\n",
    "else:\n",
    "    print(\"not a pallindrome\")\n"
   ]
  },
  {
   "cell_type": "code",
   "execution_count": null,
   "id": "80297d3d-3c55-40f9-8b0a-bcf51273381a",
   "metadata": {},
   "outputs": [],
   "source": [
    "Write a program to reverse a string without using slicing ([::-1]).\n"
   ]
  },
  {
   "cell_type": "code",
   "execution_count": 15,
   "id": "e85a765c-53e0-4130-8114-370685423f94",
   "metadata": {},
   "outputs": [
    {
     "name": "stdout",
     "output_type": "stream",
     "text": [
      "y\n",
      "a\n",
      "m\n",
      "n\n",
      "i\n",
      "h\n",
      "c\n"
     ]
    }
   ],
   "source": [
    "# this is wrong \n",
    "e = \"chinmay\"\n",
    "position = 0\n",
    "for i in e[::-1]:\n",
    "    print(i)\n",
    "    "
   ]
  },
  {
   "cell_type": "code",
   "execution_count": 16,
   "id": "42d741a7-3a7c-4663-9bda-2731b1ca81e6",
   "metadata": {},
   "outputs": [
    {
     "data": {
      "text/plain": [
       "'uamnihC'"
      ]
     },
     "execution_count": 16,
     "metadata": {},
     "output_type": "execute_result"
    }
   ],
   "source": [
    "def rev_str(str1):\n",
    "    reversed_string = \"\"\n",
    "    for char in str1:\n",
    "        reversed_string = char + reversed_string\n",
    "    return reversed_string\n",
    "\n",
    "e = rev_str(\"Chinmau\")\n",
    "e"
   ]
  },
  {
   "cell_type": "code",
   "execution_count": null,
   "id": "8bf60bdd-b2dc-4e60-a76c-df4b32481748",
   "metadata": {},
   "outputs": [],
   "source": [
    "Replace all occurrences of a substring in a string with another substring.\n"
   ]
  },
  {
   "cell_type": "code",
   "execution_count": 18,
   "id": "64d972f5-2ac8-4af3-a007-905a7dfbe632",
   "metadata": {},
   "outputs": [
    {
     "data": {
      "text/plain": [
       "'Chinmcy bhclerco'"
      ]
     },
     "execution_count": 18,
     "metadata": {},
     "output_type": "execute_result"
    }
   ],
   "source": [
    "str1 = \"Chinmay bhalerao\"\n",
    "str1.replace(\"a\",\"c\")\n"
   ]
  },
  {
   "cell_type": "code",
   "execution_count": null,
   "id": "5ea6ad0e-ad80-43f6-8ecd-7051fd9029b4",
   "metadata": {},
   "outputs": [],
   "source": [
    "Write a program to find the first non-repeating character in a string.\n"
   ]
  },
  {
   "cell_type": "code",
   "execution_count": 21,
   "id": "9edf02e9-d839-4a97-806c-d1f95848c149",
   "metadata": {},
   "outputs": [
    {
     "data": {
      "text/plain": [
       "{'C', 'a', 'h', 'i', 'm', 'n', 'y'}"
      ]
     },
     "execution_count": 21,
     "metadata": {},
     "output_type": "execute_result"
    }
   ],
   "source": [
    "str1 = \"Chinamayaana\"\n",
    "s1 = set(str1)\n",
    "s1"
   ]
  },
  {
   "cell_type": "code",
   "execution_count": 24,
   "id": "67b045a7-7d3e-40ee-80a9-591210c68fb3",
   "metadata": {},
   "outputs": [
    {
     "ename": "KeyError",
     "evalue": "'C'",
     "output_type": "error",
     "traceback": [
      "\u001b[1;31m---------------------------------------------------------------------------\u001b[0m",
      "\u001b[1;31mKeyError\u001b[0m                                  Traceback (most recent call last)",
      "Cell \u001b[1;32mIn[24], line 3\u001b[0m\n\u001b[0;32m      1\u001b[0m char_count \u001b[38;5;241m=\u001b[39m {}\n\u001b[0;32m      2\u001b[0m \u001b[38;5;28;01mfor\u001b[39;00m i \u001b[38;5;129;01min\u001b[39;00m str1:\n\u001b[1;32m----> 3\u001b[0m     \u001b[43mchar_count\u001b[49m\u001b[43m[\u001b[49m\u001b[43mi\u001b[49m\u001b[43m]\u001b[49m \u001b[38;5;241m==\u001b[39m char_count\u001b[38;5;241m.\u001b[39mget(i,\u001b[38;5;241m0\u001b[39m) \u001b[38;5;241m+\u001b[39m \u001b[38;5;241m1\u001b[39m\n",
      "\u001b[1;31mKeyError\u001b[0m: 'C'"
     ]
    }
   ],
   "source": [
    "char_count = {}\n",
    "for i in str1:\n",
    "    char_count[i] == char_count.get(i,0) + 1"
   ]
  },
  {
   "cell_type": "code",
   "execution_count": null,
   "id": "2b634d59-5fdc-4ce1-b6cc-76abd8b8e4b8",
   "metadata": {},
   "outputs": [],
   "source": [
    "Given two strings, check if one is an anagram of the other (e.g., \"listen\" and \"silent\").\n"
   ]
  },
  {
   "cell_type": "code",
   "execution_count": 31,
   "id": "5ce291e2-6d90-4520-84b9-90ce9dddc2ef",
   "metadata": {},
   "outputs": [],
   "source": [
    "\n",
    "def anagram(w1,w2):\n",
    "    w1_new = \"\".join(sorted(w1))\n",
    "    w2_new = \"\".join(sorted(w2))\n",
    "    if w1_new == w2_new:\n",
    "        return f\"It is anagram\"\n",
    "    else:\n",
    "        return \"Not\"\n"
   ]
  },
  {
   "cell_type": "code",
   "execution_count": 32,
   "id": "ec2f0b4d-9e20-4ade-bc3e-64ef6ea61944",
   "metadata": {},
   "outputs": [
    {
     "data": {
      "text/plain": [
       "'Not'"
      ]
     },
     "execution_count": 32,
     "metadata": {},
     "output_type": "execute_result"
    }
   ],
   "source": [
    "w1 = \"liseten\"\n",
    "w2 = \"silent\"\n",
    "w = anagram(w1,w2)\n",
    "w"
   ]
  },
  {
   "cell_type": "code",
   "execution_count": null,
   "id": "01333967-b631-47ed-bd95-edf1bebc38a2",
   "metadata": {},
   "outputs": [],
   "source": [
    "Write a program to find the largest and smallest numbers in a list.\n"
   ]
  },
  {
   "cell_type": "code",
   "execution_count": 34,
   "id": "5f3f9d75-9706-41b9-8ed8-0df553ac9310",
   "metadata": {},
   "outputs": [
    {
     "name": "stdout",
     "output_type": "stream",
     "text": [
      "smallest: 2\n",
      "biggest: 9\n"
     ]
    }
   ],
   "source": [
    "e = [5,6,2,3,4,6,8,9]\n",
    "e.sort()\n",
    "print(\"smallest:\",e[0])\n",
    "print(\"biggest:\",e[-1])"
   ]
  },
  {
   "cell_type": "code",
   "execution_count": 36,
   "id": "63426be4-c345-4583-882e-9b6d5a9c18e1",
   "metadata": {},
   "outputs": [
    {
     "data": {
      "text/plain": [
       "9"
      ]
     },
     "execution_count": 36,
     "metadata": {},
     "output_type": "execute_result"
    }
   ],
   "source": [
    "min(e)\n",
    "max(e)"
   ]
  },
  {
   "cell_type": "code",
   "execution_count": null,
   "id": "988b6f3d-18a1-4dd2-a577-753b3db4e5d4",
   "metadata": {},
   "outputs": [],
   "source": [
    "Remove duplicates from a list without using set().\n"
   ]
  },
  {
   "cell_type": "code",
   "execution_count": 39,
   "id": "152a95ea-f851-46a4-9a60-7298c279da70",
   "metadata": {},
   "outputs": [
    {
     "data": {
      "text/plain": [
       "[5, 6, 2, 3, 4, 8, 9, 1, 7]"
      ]
     },
     "execution_count": 39,
     "metadata": {},
     "output_type": "execute_result"
    }
   ],
   "source": [
    "def remove_dupli(l1):\n",
    "    orig_list = []\n",
    "    for i in l1:\n",
    "        if i not in orig_list:\n",
    "            orig_list.append(i)\n",
    "    return orig_list\n",
    "\n",
    "\n",
    "e = [5,6,2,3,4,6,8,9,9,5,4,3,2,1,7,3]\n",
    "ee = remove_dupli(e)\n",
    "ee"
   ]
  },
  {
   "cell_type": "code",
   "execution_count": null,
   "id": "ef037d32-7eed-4414-8dcb-aca71f403b4f",
   "metadata": {},
   "outputs": [],
   "source": [
    "Rotate a list by n positions (e.g., [1, 2, 3, 4] rotated by 2 becomes [3, 4, 1, 2])."
   ]
  },
  {
   "cell_type": "code",
   "execution_count": 43,
   "id": "7cc0de27-3742-4e01-8cdc-5edbc2d37ab5",
   "metadata": {},
   "outputs": [
    {
     "name": "stdout",
     "output_type": "stream",
     "text": [
      "3\n"
     ]
    },
    {
     "data": {
      "text/plain": [
       "[3, 4, 6, 8, 9, 9, 5, 4, 3, 2, 1, 7, 3, 5, 6, 2]"
      ]
     },
     "execution_count": 43,
     "metadata": {},
     "output_type": "execute_result"
    }
   ],
   "source": [
    "\n",
    "def rota(l1,n):\n",
    "    n = n % len(l1)\n",
    "    print(n)\n",
    "    return l1[n:] + l1[:n]\n",
    "    \n",
    "\n",
    "\n",
    "\n",
    "e = [5,6,2,3,4,6,8,9,9,5,4,3,2,1,7,3]\n",
    "re = rota(e,3)\n",
    "re\n",
    "\n"
   ]
  },
  {
   "cell_type": "code",
   "execution_count": null,
   "id": "8e42fbd7-6bce-4e22-abbb-526baa21c953",
   "metadata": {},
   "outputs": [],
   "source": [
    "Write a program to sort a list of tuples based on the second element.\n",
    "Example: [(1, 3), (4, 2), (2, 5)] -> [(4, 2), (1, 3), (2, 5)]"
   ]
  },
  {
   "cell_type": "code",
   "execution_count": null,
   "id": "6cb02890-5bd4-4241-94d0-afc65971a2ba",
   "metadata": {},
   "outputs": [],
   "source": [
    "Merge two sorted lists into one sorted list.\n"
   ]
  },
  {
   "cell_type": "code",
   "execution_count": 47,
   "id": "208836d3-c175-4fab-91ff-0bba8cbfbd7a",
   "metadata": {},
   "outputs": [
    {
     "data": {
      "text/plain": [
       "[1, 2, 3, 4, 4, 6, 7, 8, 9]"
      ]
     },
     "execution_count": 47,
     "metadata": {},
     "output_type": "execute_result"
    }
   ],
   "source": [
    "e = [4,3,2,1,6]\n",
    "w = [7,8,9,4]\n",
    "e.sort()\n",
    "w.sort()\n",
    "q = e+w\n",
    "q.sort()\n",
    "q"
   ]
  },
  {
   "cell_type": "code",
   "execution_count": 55,
   "id": "6c1bad0d-8215-4ea8-8aea-cd74902a3175",
   "metadata": {},
   "outputs": [
    {
     "data": {
      "text/plain": [
       "[4, 3, 2, 1]"
      ]
     },
     "execution_count": 55,
     "metadata": {},
     "output_type": "execute_result"
    }
   ],
   "source": [
    "def mrg_sor_lst(l1,l2):\n",
    "    megred = []\n",
    "    i,j = 0,0\n",
    "    while i < len(l1) and j < len(l2):\n",
    "        if l1[i] <= l2[j]:\n",
    "            megred.append(l1[i])\n",
    "            i+=1\n",
    "        else:\n",
    "            megred.append(l1[j])\n",
    "            j+=1\n",
    "    return megred\n",
    "\n",
    "e = [4,3,2,1]\n",
    "w = [7,8,9,4]\n",
    "s = mrg_sor_lst(e,w)\n",
    "s\n",
    "            "
   ]
  },
  {
   "cell_type": "code",
   "execution_count": null,
   "id": "7ada7883-eb4f-4a5f-a421-3280e2b85049",
   "metadata": {},
   "outputs": [],
   "source": []
  }
 ],
 "metadata": {
  "kernelspec": {
   "display_name": "Python 3 (ipykernel)",
   "language": "python",
   "name": "python3"
  },
  "language_info": {
   "codemirror_mode": {
    "name": "ipython",
    "version": 3
   },
   "file_extension": ".py",
   "mimetype": "text/x-python",
   "name": "python",
   "nbconvert_exporter": "python",
   "pygments_lexer": "ipython3",
   "version": "3.11.9"
  }
 },
 "nbformat": 4,
 "nbformat_minor": 5
}
