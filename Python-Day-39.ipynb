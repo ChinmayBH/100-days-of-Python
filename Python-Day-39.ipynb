{
 "cells": [
  {
   "cell_type": "code",
   "execution_count": null,
   "id": "d7049978-0ec6-4055-92c8-935ab31fdf65",
   "metadata": {},
   "outputs": [],
   "source": [
    "Write a program to check if a list is a sublist of another list.\n"
   ]
  },
  {
   "cell_type": "code",
   "execution_count": 4,
   "id": "0a47b03d-e5a3-41d4-a487-3c324f577625",
   "metadata": {},
   "outputs": [],
   "source": [
    "e = [1,2,3,4,5,6,7,8,9]\n",
    "sub_e = [2,3,4]\n",
    "\n",
    "\n",
    "def check_str(main_str,sub_str):\n",
    "    main_str = \"\".join(map(str,main_str))\n",
    "    sub_str = \"\".join(map(str,sub_str))\n",
    "    print(main_str)\n",
    "    print(sub_str)\n",
    "\n",
    "    return sub_str in main_str"
   ]
  },
  {
   "cell_type": "code",
   "execution_count": 6,
   "id": "d3dcd7ee-7e7f-4225-aa4e-1d35c7dd065f",
   "metadata": {},
   "outputs": [
    {
     "name": "stdout",
     "output_type": "stream",
     "text": [
      "123456789\n",
      "294\n"
     ]
    },
    {
     "data": {
      "text/plain": [
       "False"
      ]
     },
     "execution_count": 6,
     "metadata": {},
     "output_type": "execute_result"
    }
   ],
   "source": [
    "e = [1,2,3,4,5,6,7,8,9]\n",
    "sub_e = [2,9,4]\n",
    "\n",
    "r = check_str(e,sub_e)\n",
    "r"
   ]
  },
  {
   "cell_type": "code",
   "execution_count": null,
   "id": "71a9e76a-ac13-4aa8-b849-a04804297a1a",
   "metadata": {},
   "outputs": [],
   "source": [
    "Write a program to print all prime numbers between 1 and 100.\n"
   ]
  },
  {
   "cell_type": "code",
   "execution_count": 14,
   "id": "e2a0d974-9cf8-42f5-81bf-d730de82cf76",
   "metadata": {},
   "outputs": [
    {
     "name": "stdout",
     "output_type": "stream",
     "text": [
      "prime\n",
      "prime\n",
      "prime\n",
      "Num is not prime\n",
      "prime\n",
      "prime\n",
      "prime\n",
      "prime\n",
      "prime\n",
      "Num is not prime\n",
      "prime\n",
      "prime\n",
      "prime\n",
      "prime\n",
      "prime\n",
      "prime\n",
      "prime\n",
      "prime\n",
      "prime\n",
      "prime\n",
      "prime\n",
      "prime\n",
      "prime\n",
      "prime\n",
      "prime\n",
      "prime\n",
      "prime\n",
      "prime\n",
      "prime\n",
      "prime\n",
      "prime\n",
      "prime\n",
      "prime\n",
      "prime\n",
      "prime\n",
      "prime\n",
      "prime\n",
      "prime\n",
      "prime\n",
      "prime\n",
      "prime\n",
      "prime\n",
      "prime\n",
      "prime\n",
      "prime\n",
      "prime\n",
      "prime\n",
      "prime\n",
      "prime\n",
      "prime\n",
      "prime\n",
      "prime\n",
      "prime\n"
     ]
    }
   ],
   "source": [
    "num = 55\n",
    "for i in range(2,55):\n",
    "    if num % i  == 0:\n",
    "        print(\"Num is not prime\")\n",
    "    else:\n",
    "        print(\"prime\")\n",
    "    "
   ]
  },
  {
   "cell_type": "code",
   "execution_count": 21,
   "id": "32f005e6-b3a3-4a75-8616-bc8349c4337b",
   "metadata": {},
   "outputs": [],
   "source": [
    "num = 7\n",
    "is_prime = True\n",
    "for i in range(2,int((num/2)**0.5)+1):\n",
    "    if num % i == 0:\n",
    "        is_prime = False\n",
    "        break"
   ]
  },
  {
   "cell_type": "code",
   "execution_count": 22,
   "id": "27101847-37c7-489e-a892-4c9d561c544d",
   "metadata": {},
   "outputs": [
    {
     "data": {
      "text/plain": [
       "True"
      ]
     },
     "execution_count": 22,
     "metadata": {},
     "output_type": "execute_result"
    }
   ],
   "source": [
    "is_prime"
   ]
  },
  {
   "cell_type": "code",
   "execution_count": null,
   "id": "33babe06-8dc7-4027-a301-39838087a476",
   "metadata": {},
   "outputs": [],
   "source": [
    "Print the multiplication table of a given number using a loop.\n"
   ]
  },
  {
   "cell_type": "code",
   "execution_count": 23,
   "id": "fe472bd1-7c6d-411a-881e-fd4615ccff38",
   "metadata": {},
   "outputs": [
    {
     "name": "stdout",
     "output_type": "stream",
     "text": [
      "3 * 1 = 3\n",
      "3 * 2 = 6\n",
      "3 * 3 = 9\n",
      "3 * 4 = 12\n",
      "3 * 5 = 15\n",
      "3 * 6 = 18\n",
      "3 * 7 = 21\n",
      "3 * 8 = 24\n",
      "3 * 9 = 27\n",
      "3 * 10 = 30\n"
     ]
    }
   ],
   "source": [
    "num = 3\n",
    "for i in range(1,11):\n",
    "    print(num,\"*\",i,\"=\",num*i)\n"
   ]
  },
  {
   "cell_type": "code",
   "execution_count": null,
   "id": "d0e6b9c3-cd24-495b-b1c9-e29358c9196c",
   "metadata": {},
   "outputs": [],
   "source": [
    "Find the factorial of a number using a loop.\n"
   ]
  },
  {
   "cell_type": "code",
   "execution_count": 26,
   "id": "e81e33a1-ea62-46a5-9a71-fdb32282ce3b",
   "metadata": {},
   "outputs": [
    {
     "data": {
      "text/plain": [
       "24"
      ]
     },
     "execution_count": 26,
     "metadata": {},
     "output_type": "execute_result"
    }
   ],
   "source": [
    "fact = 1\n",
    "num = 4\n",
    "for i in range(2,num+1):\n",
    "    fact = fact*i\n",
    "fact"
   ]
  },
  {
   "cell_type": "code",
   "execution_count": null,
   "id": "55570f35-eab9-4bb3-a54b-3efd4062e7c7",
   "metadata": {},
   "outputs": [],
   "source": [
    "Write a program to calculate the sum of all even numbers and the sum of all odd numbers between 1 and 100.\n"
   ]
  },
  {
   "cell_type": "code",
   "execution_count": 30,
   "id": "965edc21-01c9-48be-9568-dda2709cc93e",
   "metadata": {},
   "outputs": [
    {
     "name": "stdout",
     "output_type": "stream",
     "text": [
      "[2, 4, 6, 8, 10, 12, 14, 16, 18, 20, 22, 24, 26, 28, 30, 32, 34, 36, 38, 40, 42, 44, 46, 48, 50, 52, 54, 56, 58, 60, 62, 64, 66, 68, 70, 72, 74, 76, 78, 80, 82, 84, 86, 88, 90, 92, 94, 96, 98, 100]\n",
      "2550\n"
     ]
    }
   ],
   "source": [
    "even = []\n",
    "odd = []\n",
    "for i in range(1,101):\n",
    "    if i % 2 == 0:\n",
    "        even.append(i)\n",
    "    else:\n",
    "        odd.append(i)\n",
    "print(even)\n",
    "even_total = 0\n",
    "for i in even:\n",
    "    even_total+=i\n",
    "    \n",
    "print(even_total)\n",
    "        \n",
    "         "
   ]
  },
  {
   "cell_type": "code",
   "execution_count": null,
   "id": "871f77a7-a1a2-49b5-986c-9513061d33a3",
   "metadata": {},
   "outputs": [],
   "source": [
    "Write a program to check if a number is an Armstrong number.\n"
   ]
  },
  {
   "cell_type": "code",
   "execution_count": 31,
   "id": "1ca2c5ff-73e5-4d62-ab2f-e18df37d423c",
   "metadata": {},
   "outputs": [
    {
     "ename": "NameError",
     "evalue": "name 'digits' is not defined",
     "output_type": "error",
     "traceback": [
      "\u001b[1;31m---------------------------------------------------------------------------\u001b[0m",
      "\u001b[1;31mNameError\u001b[0m                                 Traceback (most recent call last)",
      "Cell \u001b[1;32mIn[31], line 2\u001b[0m\n\u001b[0;32m      1\u001b[0m armstrong_sum \u001b[38;5;241m=\u001b[39m \u001b[38;5;241m0\u001b[39m\n\u001b[1;32m----> 2\u001b[0m \u001b[38;5;28;01mfor\u001b[39;00m digit \u001b[38;5;129;01min\u001b[39;00m \u001b[43mdigits\u001b[49m:\n\u001b[0;32m      3\u001b[0m     armstrong_sum \u001b[38;5;241m+\u001b[39m\u001b[38;5;241m=\u001b[39m \u001b[38;5;28mint\u001b[39m(digit) \u001b[38;5;241m*\u001b[39m\u001b[38;5;241m*\u001b[39m \u001b[38;5;28mlen\u001b[39m(digits)\n",
      "\u001b[1;31mNameError\u001b[0m: name 'digits' is not defined"
     ]
    }
   ],
   "source": [
    "armstrong_sum = 0\n",
    "for digit in digits:\n",
    "    armstrong_sum += int(digit) ** len(digits)"
   ]
  },
  {
   "cell_type": "code",
   "execution_count": null,
   "id": "a9a896ba-00ce-4ee5-a78a-6cc11014005b",
   "metadata": {},
   "outputs": [],
   "source": [
    "Generate the Fibonacci sequence up to n terms.\n"
   ]
  },
  {
   "cell_type": "code",
   "execution_count": null,
   "id": "90588bdb-3b87-41c5-b97c-f6ab29b43c84",
   "metadata": {},
   "outputs": [],
   "source": []
  },
  {
   "cell_type": "code",
   "execution_count": null,
   "id": "22b16928-9ea7-4fdf-924d-26116badb2b9",
   "metadata": {},
   "outputs": [],
   "source": []
  }
 ],
 "metadata": {
  "kernelspec": {
   "display_name": "Python 3 (ipykernel)",
   "language": "python",
   "name": "python3"
  },
  "language_info": {
   "codemirror_mode": {
    "name": "ipython",
    "version": 3
   },
   "file_extension": ".py",
   "mimetype": "text/x-python",
   "name": "python",
   "nbconvert_exporter": "python",
   "pygments_lexer": "ipython3",
   "version": "3.11.9"
  }
 },
 "nbformat": 4,
 "nbformat_minor": 5
}
