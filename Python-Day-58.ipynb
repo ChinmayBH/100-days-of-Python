{
 "cells": [
  {
   "cell_type": "code",
   "execution_count": null,
   "id": "b389e44b-0927-4b33-bb0f-220f1253cf9a",
   "metadata": {},
   "outputs": [],
   "source": [
    "\"\"\"\n",
    "Write a program to convert between integers, floats, and strings.\n",
    "\"\"\""
   ]
  },
  {
   "cell_type": "code",
   "execution_count": 1,
   "id": "3c7ce5d5-6056-4a71-9e56-3343b94e886b",
   "metadata": {},
   "outputs": [],
   "source": [
    "integer = 4\n",
    "flo = 5.786\n",
    "string = \"Chinmay\"\n"
   ]
  },
  {
   "cell_type": "code",
   "execution_count": 4,
   "id": "385b4331-223a-4315-a45b-7d3225fa4b76",
   "metadata": {},
   "outputs": [
    {
     "name": "stdout",
     "output_type": "stream",
     "text": [
      "5\n"
     ]
    },
    {
     "ename": "ValueError",
     "evalue": "invalid literal for int() with base 10: 'Chinmay'",
     "output_type": "error",
     "traceback": [
      "\u001b[1;31m---------------------------------------------------------------------------\u001b[0m",
      "\u001b[1;31mValueError\u001b[0m                                Traceback (most recent call last)",
      "Cell \u001b[1;32mIn[4], line 3\u001b[0m\n\u001b[0;32m      1\u001b[0m \u001b[38;5;66;03m## In integer\u001b[39;00m\n\u001b[0;32m      2\u001b[0m \u001b[38;5;28mprint\u001b[39m(\u001b[38;5;28mint\u001b[39m(flo))\n\u001b[1;32m----> 3\u001b[0m \u001b[38;5;28mprint\u001b[39m(\u001b[38;5;28;43mint\u001b[39;49m\u001b[43m(\u001b[49m\u001b[43mstring\u001b[49m\u001b[43m)\u001b[49m)\n",
      "\u001b[1;31mValueError\u001b[0m: invalid literal for int() with base 10: 'Chinmay'"
     ]
    }
   ],
   "source": [
    "## In integer\n",
    "print(int(flo))\n",
    "print(int(string)) ## cant convert\n"
   ]
  },
  {
   "cell_type": "code",
   "execution_count": 5,
   "id": "ecf57139-60d1-456b-af8a-be460f7311fa",
   "metadata": {},
   "outputs": [
    {
     "name": "stdout",
     "output_type": "stream",
     "text": [
      "4.0\n"
     ]
    },
    {
     "ename": "ValueError",
     "evalue": "could not convert string to float: 'Chinmay'",
     "output_type": "error",
     "traceback": [
      "\u001b[1;31m---------------------------------------------------------------------------\u001b[0m",
      "\u001b[1;31mValueError\u001b[0m                                Traceback (most recent call last)",
      "Cell \u001b[1;32mIn[5], line 3\u001b[0m\n\u001b[0;32m      1\u001b[0m \u001b[38;5;66;03m## In float\u001b[39;00m\n\u001b[0;32m      2\u001b[0m \u001b[38;5;28mprint\u001b[39m(\u001b[38;5;28mfloat\u001b[39m(integer))\n\u001b[1;32m----> 3\u001b[0m \u001b[38;5;28mprint\u001b[39m(\u001b[38;5;28;43mfloat\u001b[39;49m\u001b[43m(\u001b[49m\u001b[43mstring\u001b[49m\u001b[43m)\u001b[49m)\n",
      "\u001b[1;31mValueError\u001b[0m: could not convert string to float: 'Chinmay'"
     ]
    }
   ],
   "source": [
    "## In float\n",
    "print(float(integer))\n",
    "print(float(string))  ## Cant convert"
   ]
  },
  {
   "cell_type": "code",
   "execution_count": 6,
   "id": "bf75c37c-edae-4647-a98a-7d0d7b458f64",
   "metadata": {},
   "outputs": [
    {
     "name": "stdout",
     "output_type": "stream",
     "text": [
      "4\n",
      "5.786\n"
     ]
    }
   ],
   "source": [
    "## In string\n",
    "print(str(integer))\n",
    "print(str(flo))"
   ]
  },
  {
   "cell_type": "code",
   "execution_count": 14,
   "id": "f30878ce-47f6-41c7-87f4-d1cc52692ada",
   "metadata": {},
   "outputs": [
    {
     "name": "stdout",
     "output_type": "stream",
     "text": [
      "Trying to convert into int value\n",
      "conversion completed\n",
      "Trying to convert into float value\n",
      "Trying to convert into string value\n"
     ]
    },
    {
     "data": {
      "text/plain": [
       "(None, None, 'Chinmay')"
      ]
     },
     "execution_count": 14,
     "metadata": {},
     "output_type": "execute_result"
    }
   ],
   "source": [
    "def type_exchanger(value):\n",
    "\n",
    "    try:\n",
    "        print(\"Trying to convert into int value\")\n",
    "        int_value = int(value)\n",
    "    except ValueError:\n",
    "        int_value = None\n",
    "    print(\"conversion completed\")\n",
    "    try:\n",
    "        print(\"Trying to convert into float value\")\n",
    "        float_value = float(value)\n",
    "    except ValueError:\n",
    "        float_value = None\n",
    "    try :\n",
    "        print(\"Trying to convert into string value\")\n",
    "        str_value = str(value)\n",
    "    except ValueError:\n",
    "        str_value = None\n",
    "    return int_value,float_value, str_value\n",
    "    \n",
    "\n",
    "\n",
    "## \n",
    "o_p = type_exchanger(\"Chinmay\")\n",
    "o_p"
   ]
  },
  {
   "cell_type": "code",
   "execution_count": null,
   "id": "f06e8f35-0ed8-413e-b96a-8fb4ad722b13",
   "metadata": {},
   "outputs": [],
   "source": [
    "\"\"\"\n",
    "Write a program to reverse a string and count vowels.\n",
    "\"\"\""
   ]
  },
  {
   "cell_type": "code",
   "execution_count": 21,
   "id": "7f83305d-6b6e-491b-a4b6-42ad8a1ddb67",
   "metadata": {},
   "outputs": [
    {
     "name": "stdout",
     "output_type": "stream",
     "text": [
      "12\n"
     ]
    }
   ],
   "source": [
    "string = \"Chaoiirdfspzdsdnfdgidiidmsxsxosdcbuvfjubinmay\"\n",
    "rev_string = string[::-1]\n",
    "rev_string\n",
    "vowels = [\"a\",\"e\",\"i\",\"o\",\"u\"]\n",
    "vow_num = 0\n",
    "present_vowels = []\n",
    "for i in string:\n",
    "    if i.lower() in vowels:\n",
    "        vow_num += 1\n",
    "        present_vowels.append(i)\n",
    "print((vow_num))\n",
    "\n",
    "        "
   ]
  },
  {
   "cell_type": "code",
   "execution_count": null,
   "id": "eb170aac-ba80-4f28-b92a-c2870ba81951",
   "metadata": {},
   "outputs": [],
   "source": [
    "\"\"\"\n",
    "Create a list of squares using list comprehension.\n",
    "\"\"\""
   ]
  },
  {
   "cell_type": "code",
   "execution_count": 23,
   "id": "16b1bfcb-e1fc-4179-8b0b-2fa678079dc0",
   "metadata": {},
   "outputs": [
    {
     "data": {
      "text/plain": [
       "[1, 4, 9, 16, 25]"
      ]
     },
     "execution_count": 23,
     "metadata": {},
     "output_type": "execute_result"
    }
   ],
   "source": [
    "nums = [1,2,3,4,5]\n",
    "[i*i for i in nums]"
   ]
  },
  {
   "cell_type": "code",
   "execution_count": null,
   "id": "8b7b33d1-bae8-4799-aee9-0f6d22c65158",
   "metadata": {},
   "outputs": [],
   "source": [
    "\"\"\"\n",
    "Find common elements between two sets.\n",
    "\"\"\""
   ]
  },
  {
   "cell_type": "code",
   "execution_count": 30,
   "id": "a722222f-932e-4bd9-85a6-3ddacef71403",
   "metadata": {},
   "outputs": [
    {
     "name": "stdout",
     "output_type": "stream",
     "text": [
      "common elements are:\n",
      " {3, 4, 5}\n"
     ]
    }
   ],
   "source": [
    "r = {2,3,4,5,6}\n",
    "t = {3,4,5,7,8,9}\n",
    "print(\"common elements are:\\n\",r.intersection(t))"
   ]
  },
  {
   "cell_type": "code",
   "execution_count": null,
   "id": "679846a0-dbc2-41f4-92cf-b00b9c503652",
   "metadata": {},
   "outputs": [],
   "source": [
    "\"\"\"\n",
    "Merge two dictionaries and count word frequencies in a string.\n",
    "\"\"\""
   ]
  },
  {
   "cell_type": "code",
   "execution_count": 34,
   "id": "c81db384-8e3b-4488-bfbc-7790e29f763f",
   "metadata": {},
   "outputs": [],
   "source": [
    "dict1 = {\"name\":\"Chinmay\",\n",
    "         \"age\":26,\n",
    "         \"color\":\"black\"}\n",
    "dict2 = {\"name\":\"Ramesh\",\n",
    "         \"age\":20,\n",
    "         \"color\":\"blue\",\n",
    "        \"Hi\":3}"
   ]
  },
  {
   "cell_type": "code",
   "execution_count": 38,
   "id": "e17b6ab3-fa68-4b6f-a17d-6107d6a6c7f5",
   "metadata": {},
   "outputs": [],
   "source": [
    "dict3 = dict1 | dict2"
   ]
  },
  {
   "cell_type": "code",
   "execution_count": 39,
   "id": "45b35b30-df38-442c-a439-a0ed8a63baca",
   "metadata": {},
   "outputs": [
    {
     "data": {
      "text/plain": [
       "{'name': 'Ramesh', 'age': 20, 'color': 'blue', 'Hi': 3}"
      ]
     },
     "execution_count": 39,
     "metadata": {},
     "output_type": "execute_result"
    }
   ],
   "source": [
    "dict3"
   ]
  },
  {
   "cell_type": "code",
   "execution_count": null,
   "id": "2522c8d2-23c8-4076-8270-2acf3722db3f",
   "metadata": {},
   "outputs": [],
   "source": []
  }
 ],
 "metadata": {
  "kernelspec": {
   "display_name": "Python 3 (ipykernel)",
   "language": "python",
   "name": "python3"
  },
  "language_info": {
   "codemirror_mode": {
    "name": "ipython",
    "version": 3
   },
   "file_extension": ".py",
   "mimetype": "text/x-python",
   "name": "python",
   "nbconvert_exporter": "python",
   "pygments_lexer": "ipython3",
   "version": "3.11.9"
  }
 },
 "nbformat": 4,
 "nbformat_minor": 5
}
