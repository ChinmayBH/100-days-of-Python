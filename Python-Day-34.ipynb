{
 "cells": [
  {
   "cell_type": "code",
   "execution_count": null,
   "id": "9e361563-8439-4442-8d04-57efdeebaa86",
   "metadata": {},
   "outputs": [],
   "source": []
  },
  {
   "cell_type": "code",
   "execution_count": 1,
   "id": "43252311-846e-4d79-89a4-4131a4f0e242",
   "metadata": {},
   "outputs": [
    {
     "name": "stdout",
     "output_type": "stream",
     "text": [
      "Project retrieved: First Project\n"
     ]
    },
    {
     "name": "stderr",
     "output_type": "stream",
     "text": [
      "C:\\Users\\ChinmayB.WINJITBIOS\\AppData\\Local\\Temp\\ipykernel_11616\\1766651345.py:9: MovedIn20Warning: The ``declarative_base()`` function is now available as sqlalchemy.orm.declarative_base(). (deprecated since: 2.0) (Background on SQLAlchemy 2.0 at: https://sqlalche.me/e/b8d9)\n",
      "  Base = declarative_base()                 # Base class for models\n"
     ]
    }
   ],
   "source": [
    "from sqlalchemy import create_engine, Column, String\n",
    "from sqlalchemy.ext.declarative import declarative_base\n",
    "from sqlalchemy.orm import sessionmaker\n",
    "\n",
    "# Database setup\n",
    "DATABASE_URL = \"sqlite:///simple_app.db\"  # Simple SQLite database\n",
    "engine = create_engine(DATABASE_URL)      # Create a database engine\n",
    "SessionLocal = sessionmaker(bind=engine)  # Create a session factory\n",
    "Base = declarative_base()                 # Base class for models\n",
    "\n",
    "# Simple Table: Project\n",
    "class Project(Base):\n",
    "    __tablename__ = \"projects\"  # Table name in the database\n",
    "\n",
    "    id = Column(String, primary_key=True)  # Primary key column\n",
    "    name = Column(String)                  # Name of the project\n",
    "\n",
    "# Create the table in the database\n",
    "Base.metadata.create_all(bind=engine)\n",
    "\n",
    "# Simple example to add and retrieve data\n",
    "def main():\n",
    "    # Create a session\n",
    "    session = SessionLocal()\n",
    "\n",
    "    try:\n",
    "        # Add a new project\n",
    "        new_project = Project(id=\"1\", name=\"First Project\")\n",
    "        session.add(new_project)\n",
    "        session.commit()  # Save changes to the database\n",
    "\n",
    "        # Query the project\n",
    "        project = session.query(Project).filter_by(id=\"1\").first()\n",
    "        print(\"Project retrieved:\", project.name)\n",
    "    finally:\n",
    "        session.close()  # Close the session\n",
    "\n",
    "if __name__ == \"__main__\":\n",
    "    main()\n"
   ]
  },
  {
   "cell_type": "code",
   "execution_count": 2,
   "id": "fc87a2a9-d1a6-4fa3-a84e-d0649dc4c91e",
   "metadata": {},
   "outputs": [
    {
     "name": "stderr",
     "output_type": "stream",
     "text": [
      "C:\\Users\\ChinmayB.WINJITBIOS\\AppData\\Local\\Temp\\ipykernel_11616\\757465837.py:9: MovedIn20Warning: The ``declarative_base()`` function is now available as sqlalchemy.orm.declarative_base(). (deprecated since: 2.0) (Background on SQLAlchemy 2.0 at: https://sqlalche.me/e/b8d9)\n",
      "  Base = declarative_base()  # Base class for models\n"
     ]
    },
    {
     "name": "stdout",
     "output_type": "stream",
     "text": [
      "\n",
      "Menu:\n",
      "1. Add User\n",
      "2. Show All Users\n",
      "3. Exit\n"
     ]
    },
    {
     "name": "stdin",
     "output_type": "stream",
     "text": [
      "Enter your choice:  1\n",
      "Enter name:  NLK\n",
      "Enter email:  NLKGM\n"
     ]
    },
    {
     "name": "stdout",
     "output_type": "stream",
     "text": [
      "User added successfully!\n",
      "\n",
      "Menu:\n",
      "1. Add User\n",
      "2. Show All Users\n",
      "3. Exit\n"
     ]
    },
    {
     "name": "stdin",
     "output_type": "stream",
     "text": [
      "Enter your choice:  3\n"
     ]
    },
    {
     "name": "stdout",
     "output_type": "stream",
     "text": [
      "Exiting...\n"
     ]
    }
   ],
   "source": [
    "from sqlalchemy import create_engine, Column, Integer, String\n",
    "from sqlalchemy.ext.declarative import declarative_base\n",
    "from sqlalchemy.orm import sessionmaker\n",
    "\n",
    "# Database Setup\n",
    "DATABASE_URL = \"sqlite:///user_app.db\"  # SQLite database\n",
    "engine = create_engine(DATABASE_URL)  # Database engine\n",
    "SessionLocal = sessionmaker(bind=engine)  # Session factory\n",
    "Base = declarative_base()  # Base class for models\n",
    "\n",
    "# Define a Table\n",
    "class User(Base):\n",
    "    __tablename__ = \"users\"  # Table name in the database\n",
    "\n",
    "    id = Column(Integer, primary_key=True, autoincrement=True)  # Auto-incrementing ID\n",
    "    name = Column(String, nullable=False)  # User's name\n",
    "    email = Column(String, unique=True, nullable=False)  # User's email\n",
    "\n",
    "# Create the Table in the Database\n",
    "Base.metadata.create_all(bind=engine)\n",
    "\n",
    "# Function to Add a User\n",
    "def add_user(name, email):\n",
    "    session = SessionLocal()  # Start a new session\n",
    "    try:\n",
    "        new_user = User(name=name, email=email)  # Create a new User object\n",
    "        session.add(new_user)  # Add to the session\n",
    "        session.commit()  # Save to the database\n",
    "        print(\"User added successfully!\")\n",
    "    except Exception as e:\n",
    "        session.rollback()  # Rollback in case of an error\n",
    "        print(\"Error:\", e)\n",
    "    finally:\n",
    "        session.close()  # Close the session\n",
    "\n",
    "# Function to Show All Users\n",
    "def show_users():\n",
    "    session = SessionLocal()  # Start a new session\n",
    "    try:\n",
    "        users = session.query(User).all()  # Query all users\n",
    "        if users:\n",
    "            print(\"\\nUsers in Database:\")\n",
    "            for user in users:\n",
    "                print(f\"ID: {user.id}, Name: {user.name}, Email: {user.email}\")\n",
    "        else:\n",
    "            print(\"\\nNo users found in the database.\")\n",
    "    finally:\n",
    "        session.close()  # Close the session\n",
    "\n",
    "# Main Program\n",
    "def main():\n",
    "    while True:\n",
    "        print(\"\\nMenu:\")\n",
    "        print(\"1. Add User\")\n",
    "        print(\"2. Show All Users\")\n",
    "        print(\"3. Exit\")\n",
    "\n",
    "        choice = input(\"Enter your choice: \")\n",
    "\n",
    "        if choice == \"1\":\n",
    "            name = input(\"Enter name: \")\n",
    "            email = input(\"Enter email: \")\n",
    "            add_user(name, email)  # Add user to the database\n",
    "        elif choice == \"2\":\n",
    "            show_users()  # Display all users\n",
    "        elif choice == \"3\":\n",
    "            print(\"Exiting...\")\n",
    "            break\n",
    "        else:\n",
    "            print(\"Invalid choice. Please try again.\")\n",
    "\n",
    "if __name__ == \"__main__\":\n",
    "    main()\n"
   ]
  },
  {
   "cell_type": "code",
   "execution_count": 11,
   "id": "05c47bcc-822b-4281-9afe-5f8e13d79986",
   "metadata": {},
   "outputs": [],
   "source": [
    "class bank_account():\n",
    "    def __init__(self, account_holder, account_number, balance):\n",
    "        self.account_holder = account_holder\n",
    "        self.account_number = account_number\n",
    "        self.balance = balance\n",
    "\n",
    "    def add_deposit(self, new_deposit):\n",
    "        updated_balance = self.balance+ new_deposit\n",
    "        return updated_balance\n",
    "\n",
    "    def withdraw(self, withdraw_amount):\n",
    "        updated_balance = self.balance- withdraw_amount\n",
    "        return updated_balance"
   ]
  },
  {
   "cell_type": "code",
   "execution_count": 12,
   "id": "bf7dddd2-445d-4ec6-9104-fc23669f2dc0",
   "metadata": {},
   "outputs": [
    {
     "data": {
      "text/plain": [
       "4400"
      ]
     },
     "execution_count": 12,
     "metadata": {},
     "output_type": "execute_result"
    }
   ],
   "source": [
    "bank_account1 = bank_account(\"Chinmay\",3455,4000)\n",
    "bank_account1.add_deposit(400)"
   ]
  },
  {
   "cell_type": "code",
   "execution_count": 13,
   "id": "8af5b0ec-663a-4289-a26c-c1e29ec177d6",
   "metadata": {},
   "outputs": [
    {
     "data": {
      "text/plain": [
       "3700"
      ]
     },
     "execution_count": 13,
     "metadata": {},
     "output_type": "execute_result"
    }
   ],
   "source": [
    "bank_account1.withdraw(300)"
   ]
  },
  {
   "cell_type": "code",
   "execution_count": null,
   "id": "1672f71c-76cc-46e6-8f46-09be2db07366",
   "metadata": {},
   "outputs": [],
   "source": []
  }
 ],
 "metadata": {
  "kernelspec": {
   "display_name": "Python 3 (ipykernel)",
   "language": "python",
   "name": "python3"
  },
  "language_info": {
   "codemirror_mode": {
    "name": "ipython",
    "version": 3
   },
   "file_extension": ".py",
   "mimetype": "text/x-python",
   "name": "python",
   "nbconvert_exporter": "python",
   "pygments_lexer": "ipython3",
   "version": "3.11.9"
  }
 },
 "nbformat": 4,
 "nbformat_minor": 5
}
