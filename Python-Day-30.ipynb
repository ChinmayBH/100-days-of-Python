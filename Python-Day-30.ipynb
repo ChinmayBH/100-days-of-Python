{
 "cells": [
  {
   "cell_type": "code",
   "execution_count": 1,
   "id": "ca110488-6751-4cc1-afec-523d8f1d124b",
   "metadata": {},
   "outputs": [
    {
     "data": {
      "text/plain": [
       "'code the sigmoidal function'"
      ]
     },
     "execution_count": 1,
     "metadata": {},
     "output_type": "execute_result"
    }
   ],
   "source": [
    "\"code the sigmoidal function\""
   ]
  },
  {
   "cell_type": "code",
   "execution_count": 3,
   "id": "16b47ce6-9168-49ef-b465-ee242ec32114",
   "metadata": {},
   "outputs": [],
   "source": [
    "import math\n",
    "def sigma(x):\n",
    "    f_x = 1/(1+((math.e)**-x))\n",
    "    return f_x"
   ]
  },
  {
   "cell_type": "code",
   "execution_count": 9,
   "id": "ddf02e4d-440a-4d1a-8b98-98fb5e91ae14",
   "metadata": {},
   "outputs": [
    {
     "data": {
      "text/plain": [
       "0.9525741268224331"
      ]
     },
     "execution_count": 9,
     "metadata": {},
     "output_type": "execute_result"
    }
   ],
   "source": [
    "e = sigma(3)\n",
    "e"
   ]
  },
  {
   "cell_type": "code",
   "execution_count": 10,
   "id": "ea50f2b8-841d-4d75-a0ca-d13a860dc610",
   "metadata": {},
   "outputs": [
    {
     "data": {
      "text/plain": [
       "'it gives output in the range 0 and 1'"
      ]
     },
     "execution_count": 10,
     "metadata": {},
     "output_type": "execute_result"
    }
   ],
   "source": [
    "\"it gives output in the range 0 and 1\""
   ]
  },
  {
   "cell_type": "code",
   "execution_count": 12,
   "id": "cc96ff15-ec64-4c62-bcc6-35fbf9f4ef21",
   "metadata": {},
   "outputs": [
    {
     "data": {
      "text/plain": [
       "'\\nsuch that they add up to target.\\n\\nYou may assume that each input would have exactly one solution, and you may not use the same element twice.\\n\\nYou can return the answer in any order.\\n\\nInput: nums = [2,7,11,15], target = 9\\nOutput: [0,1]\\nExplanation: Because nums[0] + nums[1] == 9, we return [0, 1].\\n'"
      ]
     },
     "execution_count": 12,
     "metadata": {},
     "output_type": "execute_result"
    }
   ],
   "source": [
    "\"\"\"\n",
    "such that they add up to target.\n",
    "\n",
    "You may assume that each input would have exactly one solution, and you may not use the same element twice.\n",
    "\n",
    "You can return the answer in any order.\n",
    "\n",
    "Input: nums = [2,7,11,15], target = 9\n",
    "Output: [0,1]\n",
    "Explanation: Because nums[0] + nums[1] == 9, we return [0, 1].\n",
    "\"\"\""
   ]
  },
  {
   "cell_type": "code",
   "execution_count": 21,
   "id": "30c25c92-448d-4754-9fd2-260f2efa28c8",
   "metadata": {},
   "outputs": [],
   "source": [
    "num = [2,7,11,15]\n",
    "target = 9\n",
    "t = []\n",
    "position = 0\n",
    "while position < len(num):\n",
    "    if num[position] + num[position+1] == target:\n",
    "        t.append(num[position])\n",
    "    position+=1"
   ]
  },
  {
   "cell_type": "code",
   "execution_count": 24,
   "id": "7de3ed0d-8478-49ab-83ac-dcdf37abab1f",
   "metadata": {},
   "outputs": [],
   "source": [
    "num = [2,7,11,15]\n",
    "target = 9\n",
    "t = []\n",
    "\n",
    "for i in range(len(num)):\n",
    "    for j in range(i+1,len(num)):\n",
    "        if num[i] + num[j] == target:\n",
    "            t.append((num[i],num[j]))\n",
    "            "
   ]
  },
  {
   "cell_type": "code",
   "execution_count": 41,
   "id": "26be9d1d-f999-4557-b270-a0e675c88fe9",
   "metadata": {},
   "outputs": [],
   "source": [
    "class Solution(object):\n",
    "    def __init__(self, nums, target):\n",
    "        self.nums = nums\n",
    "        self.target = target\n",
    "    def twoSum(self):\n",
    "        \"\"\"\n",
    "        :type nums: List[int]\n",
    "        :type target: int\n",
    "        :rtype: List[int]\n",
    "        \"\"\"\n",
    "\n",
    "        t = []\n",
    "        for i in range(len(self.nums)):\n",
    "            for j in range(i+1, len(self.nums)):\n",
    "                if self.nums[i] + self.nums[j] == self.target:\n",
    "                    t.append((self.nums[i],self.nums[j]))\n",
    "        return t\n",
    "    "
   ]
  },
  {
   "cell_type": "code",
   "execution_count": 45,
   "id": "90f3b0a0-bcb4-42c5-b4f5-794306eef0ab",
   "metadata": {},
   "outputs": [
    {
     "data": {
      "text/plain": [
       "[(2, 7)]"
      ]
     },
     "execution_count": 45,
     "metadata": {},
     "output_type": "execute_result"
    }
   ],
   "source": [
    "num = [2,7,11,15]\n",
    "target1 = 9\n",
    "w = Solution(num,target1)\n",
    "w.twoSum()"
   ]
  },
  {
   "cell_type": "code",
   "execution_count": null,
   "id": "84ac8ee2-1e29-4df4-bc10-eb64641ca252",
   "metadata": {},
   "outputs": [],
   "source": []
  }
 ],
 "metadata": {
  "kernelspec": {
   "display_name": "Python 3 (ipykernel)",
   "language": "python",
   "name": "python3"
  },
  "language_info": {
   "codemirror_mode": {
    "name": "ipython",
    "version": 3
   },
   "file_extension": ".py",
   "mimetype": "text/x-python",
   "name": "python",
   "nbconvert_exporter": "python",
   "pygments_lexer": "ipython3",
   "version": "3.11.9"
  }
 },
 "nbformat": 4,
 "nbformat_minor": 5
}
