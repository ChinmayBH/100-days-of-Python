{
 "cells": [
  {
   "cell_type": "code",
   "execution_count": null,
   "id": "bbddd16c-fea3-49d2-b6cb-da7216393cf0",
   "metadata": {},
   "outputs": [],
   "source": [
    "Write a program to count the frequency of each word in a string.\n"
   ]
  },
  {
   "cell_type": "code",
   "execution_count": 22,
   "id": "27155acb-03dd-4930-9c9a-c6cefbd1bf3c",
   "metadata": {},
   "outputs": [
    {
     "data": {
      "text/plain": [
       "{'C': 1, 'h': 1, 'i': 1, 'n': 1, 'a': 3, 'm': 1, 'y': 1}"
      ]
     },
     "execution_count": 22,
     "metadata": {},
     "output_type": "execute_result"
    }
   ],
   "source": [
    "st = \"Chinamaya\"\n",
    "count = \"\"\n",
    "dict1 = {}\n",
    "for i in st:\n",
    "    if i  in dict1:\n",
    "        dict1[i] +=1\n",
    "    else:\n",
    "        dict1[i]=1\n",
    "dict1\n",
    "    "
   ]
  },
  {
   "cell_type": "code",
   "execution_count": 11,
   "id": "47f079e9-1142-4d54-9b0f-9b541cedd5d5",
   "metadata": {},
   "outputs": [
    {
     "data": {
      "text/plain": [
       "{'C': 1, 'h': 2, 'i': 3, 'n': 4, 'a': 5, 'm': 6, 'y': 8}"
      ]
     },
     "execution_count": 11,
     "metadata": {},
     "output_type": "execute_result"
    }
   ],
   "source": [
    "dict1"
   ]
  },
  {
   "cell_type": "code",
   "execution_count": null,
   "id": "d8b3b3f7-ddb2-46a3-9225-aa3bb1c379d3",
   "metadata": {},
   "outputs": [],
   "source": [
    "Merge two dictionaries and update values for common keys.\n"
   ]
  },
  {
   "cell_type": "code",
   "execution_count": 25,
   "id": "153915e7-f41c-4380-a139-7752cc970b11",
   "metadata": {},
   "outputs": [
    {
     "data": {
      "text/plain": [
       "{'name': 'Bharat', 'age': 22, 'word': 'done'}"
      ]
     },
     "execution_count": 25,
     "metadata": {},
     "output_type": "execute_result"
    }
   ],
   "source": [
    "w = {\"name\":\"Chinmay\",\n",
    "     \"age\":22,\n",
    "     \"word\":\"done\"}\n",
    "w1 = {\"name\":\"Bharat\",\n",
    "     \"age\":22,\n",
    "     \"word\":\"done\"}\n",
    "\n",
    "w.update(w1)\n",
    "w"
   ]
  },
  {
   "cell_type": "code",
   "execution_count": null,
   "id": "6704b38c-23f7-440c-a796-dcdcdb95129e",
   "metadata": {},
   "outputs": [],
   "source": [
    "Write a function to check if a given number is prime.\n"
   ]
  },
  {
   "cell_type": "code",
   "execution_count": 42,
   "id": "b4c12187-797a-49a1-bc43-09a88c4d70ff",
   "metadata": {},
   "outputs": [
    {
     "name": "stdout",
     "output_type": "stream",
     "text": [
      "prime\n"
     ]
    }
   ],
   "source": [
    "def is_prime(num:int):\n",
    "    for i in range(2,int((num**0.5))+1):\n",
    "        if num%i == 0:\n",
    "            return print(\"Not Prime\")\n",
    "        else:\n",
    "            return print(\"prime\")\n",
    "r = is_prime(77)\n",
    "r"
   ]
  },
  {
   "cell_type": "code",
   "execution_count": 49,
   "id": "bc20ddb8-10aa-4528-9137-59a3f270434d",
   "metadata": {},
   "outputs": [
    {
     "data": {
      "text/plain": [
       "'Greatest common divisor is 25'"
      ]
     },
     "execution_count": 49,
     "metadata": {},
     "output_type": "execute_result"
    }
   ],
   "source": [
    "def GCD(num1:int, num2:int):\n",
    "    CD1 = []\n",
    "    CD2 = []\n",
    "    for i in range(2,num1+1):\n",
    "        if num1 % i == 0:\n",
    "            CD1.append(i)\n",
    "        if num2 % i == 0:\n",
    "            CD2.append(i)\n",
    "        else:\n",
    "            pass\n",
    "    if max(CD1) > max(CD2):\n",
    "        return f\"Greatest common divisor is {max(CD1)}\"\n",
    "    else:\n",
    "        return f\"Greatest common divisor is {max(CD2)}\"\n",
    "    \n",
    "\n",
    "w = GCD(25,20)\n",
    "w\n",
    "\n",
    "    "
   ]
  },
  {
   "cell_type": "code",
   "execution_count": null,
   "id": "dd392ca7-37ec-4865-a5dd-665ff52a587a",
   "metadata": {},
   "outputs": [],
   "source": [
    "Write a recursive function to calculate the sum of digits of a number.\n",
    "\n"
   ]
  },
  {
   "cell_type": "code",
   "execution_count": 50,
   "id": "f6aff151-7b53-4dea-a513-e7b110dc0b6f",
   "metadata": {},
   "outputs": [
    {
     "name": "stdout",
     "output_type": "stream",
     "text": [
      "32\n"
     ]
    }
   ],
   "source": [
    "num = 56786\n",
    "num1 = str(num)\n",
    "sum = 0\n",
    "for i in num1:\n",
    "    sum+=int(i)\n",
    "print(sum)\n",
    "\n"
   ]
  },
  {
   "cell_type": "code",
   "execution_count": null,
   "id": "13f44d9c-55c8-4875-b1bf-573a8c1f564c",
   "metadata": {},
   "outputs": [],
   "source": [
    "Write a function that takes a list and returns a new list with only the unique elements.\n"
   ]
  },
  {
   "cell_type": "code",
   "execution_count": 58,
   "id": "8be2c0c4-5087-48ce-8008-a019479c4a41",
   "metadata": {},
   "outputs": [],
   "source": [
    "r = [3,4,5,6,7,8,9,3,4,5,6,78,8]\n",
    "dict1 = {}\n",
    "for i in r:\n",
    "    if i in dict1:\n",
    "        pass\n",
    "    else:\n",
    "        dict1[i] = i\n",
    "\n",
    "\n",
    "\n"
   ]
  },
  {
   "cell_type": "code",
   "execution_count": 62,
   "id": "0cd994d4-f8da-46ef-aee4-d85afb6b5105",
   "metadata": {},
   "outputs": [],
   "source": [
    "gt = []\n",
    "for i in r:\n",
    "    if i in gt:\n",
    "        pass\n",
    "    else:\n",
    "        gt.append(i)"
   ]
  },
  {
   "cell_type": "code",
   "execution_count": 63,
   "id": "1911fa74-6df0-4ae3-84d0-73ce7a891503",
   "metadata": {},
   "outputs": [
    {
     "data": {
      "text/plain": [
       "[3, 4, 5, 6, 7, 8, 9, 78]"
      ]
     },
     "execution_count": 63,
     "metadata": {},
     "output_type": "execute_result"
    }
   ],
   "source": [
    "gt"
   ]
  },
  {
   "cell_type": "code",
   "execution_count": null,
   "id": "ec980f29-7668-4d6e-b5f2-464abc01fa98",
   "metadata": {},
   "outputs": [],
   "source": []
  }
 ],
 "metadata": {
  "kernelspec": {
   "display_name": "Python 3 (ipykernel)",
   "language": "python",
   "name": "python3"
  },
  "language_info": {
   "codemirror_mode": {
    "name": "ipython",
    "version": 3
   },
   "file_extension": ".py",
   "mimetype": "text/x-python",
   "name": "python",
   "nbconvert_exporter": "python",
   "pygments_lexer": "ipython3",
   "version": "3.11.9"
  }
 },
 "nbformat": 4,
 "nbformat_minor": 5
}
