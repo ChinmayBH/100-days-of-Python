{
 "cells": [
  {
   "cell_type": "code",
   "execution_count": null,
   "id": "3023876d-52cf-4f68-abaa-967b359b030b",
   "metadata": {},
   "outputs": [],
   "source": [
    "# program where the game starts \n",
    "if __name__ == \"__main__\":\t\t \n",
    "\t\n",
    "\t# For initializing modules of pygame library \n",
    "\tpygame.init() \n",
    "\tframepersecond_clock = pygame.time.Clock() \n",
    "\t\n",
    "\t# Sets the title on top of game window \n",
    "\tpygame.display.set_caption('Flappy Bird Game')\t \n",
    "\n",
    "\t# Load all the images which we will use in the game \n",
    "\t# images for displaying score \n",
    "\tgame_images['scoreimages'] = ( \n",
    "\t\tpygame.image.load('images/0.png').convert_alpha(), \n",
    "\t\tpygame.image.load('images/1.png').convert_alpha(), \n",
    "\t\tpygame.image.load('images/2.png').convert_alpha(), \n",
    "\t\tpygame.image.load('images/3.png').convert_alpha(), \n",
    "\t\tpygame.image.load('images/4.png').convert_alpha(),\t\t \n",
    "\t\tpygame.image.load('images/5.png').convert_alpha(), \n",
    "\t\tpygame.image.load('images/6.png').convert_alpha(), \n",
    "\t\tpygame.image.load('images/7.png').convert_alpha(), \n",
    "\t\tpygame.image.load('images/8.png').convert_alpha(), \n",
    "\t\tpygame.image.load('images/9.png').convert_alpha() \n",
    "\t) \n",
    "\tgame_images['flappybird'] = pygame.image.load(birdplayer_image).convert_alpha()\t\t\t\t \n",
    "\tgame_images['sea_level'] = pygame.image.load(sealevel_image).convert_alpha() \n",
    "\tgame_images['background'] = pygame.image.load(background_image).convert_alpha() \n",
    "\tgame_images['pipeimage'] = (pygame.transform.rotate(pygame.image.load(pipeimage) \n",
    "\t\t\t\t\t\t\t\t\t\t\t\t\t\t.convert_alpha(), \n",
    "\t\t\t\t\t\t\t\t\t\t\t\t\t\t180), \n",
    "\t\t\t\t\t\t\t\tpygame.image.load(pipeimage).convert_alpha()) \n",
    "\n",
    "\tprint(\"WELCOME TO THE FLAPPY BIRD GAME\") \n",
    "\tprint(\"Press space or enter to start the game\") \n"
   ]
  }
 ],
 "metadata": {
  "kernelspec": {
   "display_name": "Python 3 (ipykernel)",
   "language": "python",
   "name": "python3"
  },
  "language_info": {
   "codemirror_mode": {
    "name": "ipython",
    "version": 3
   },
   "file_extension": ".py",
   "mimetype": "text/x-python",
   "name": "python",
   "nbconvert_exporter": "python",
   "pygments_lexer": "ipython3",
   "version": "3.11.9"
  }
 },
 "nbformat": 4,
 "nbformat_minor": 5
}
