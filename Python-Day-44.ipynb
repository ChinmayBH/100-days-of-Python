{
 "cells": [
  {
   "cell_type": "code",
   "execution_count": null,
   "id": "d6f294e8-60db-4c3e-9b3e-c27df08b586e",
   "metadata": {},
   "outputs": [],
   "source": [
    "Create a function to calculate the n-th term of the Fibonacci sequence.\n"
   ]
  },
  {
   "cell_type": "code",
   "execution_count": 3,
   "id": "fe9d5265-2010-4b9c-9d65-3f77ba10d48a",
   "metadata": {},
   "outputs": [],
   "source": [
    "\n",
    "series = []\n",
    "def fib(num):\n",
    "    i = 1\n",
    "    a = 0\n",
    "    b = 1\n",
    "    while i <= num+1:\n",
    "        series.append(a)\n",
    "        a,b = b, a+b\n",
    "        i+=1\n",
    "    print(series)\n",
    "    #print(series[num])\n",
    "    return series\n",
    "    \n"
   ]
  },
  {
   "cell_type": "code",
   "execution_count": 4,
   "id": "365fb1e6-fcd1-456a-8a25-5ff0226e57a4",
   "metadata": {},
   "outputs": [
    {
     "name": "stdout",
     "output_type": "stream",
     "text": [
      "[0, 1, 1, 2, 3, 5, 8, 13]\n"
     ]
    },
    {
     "data": {
      "text/plain": [
       "[0, 1, 1, 2, 3, 5, 8, 13]"
      ]
     },
     "execution_count": 4,
     "metadata": {},
     "output_type": "execute_result"
    }
   ],
   "source": [
    "t = fib(7)\n",
    "t"
   ]
  },
  {
   "cell_type": "code",
   "execution_count": null,
   "id": "a01938aa-b155-43e8-95f4-f550ac8c697f",
   "metadata": {},
   "outputs": [],
   "source": [
    "Write a lambda function to sort a list of dictionaries by a specific key.\n"
   ]
  },
  {
   "cell_type": "code",
   "execution_count": 10,
   "id": "71c1331b-bb98-4d01-83ef-9cb0980be486",
   "metadata": {},
   "outputs": [],
   "source": [
    "data = [\n",
    "    {\"name\": \"Alice\", \"age\": 30},\n",
    "    {\"name\": \"Bob\", \"age\": 25},\n",
    "    {\"name\": \"Charlie\", \"age\": 35}\n",
    "]\n"
   ]
  },
  {
   "cell_type": "code",
   "execution_count": 14,
   "id": "9cb89659-7214-417f-b0a7-636977dc3ac1",
   "metadata": {},
   "outputs": [],
   "source": [
    "data1 = sorted(data,key = lambda x:x[\"age\"])\n"
   ]
  },
  {
   "cell_type": "code",
   "execution_count": 15,
   "id": "17e28ec6-8114-4bab-9153-bd7c0b4009e9",
   "metadata": {},
   "outputs": [
    {
     "data": {
      "text/plain": [
       "[{'name': 'Bob', 'age': 25},\n",
       " {'name': 'Alice', 'age': 30},\n",
       " {'name': 'Charlie', 'age': 35}]"
      ]
     },
     "execution_count": 15,
     "metadata": {},
     "output_type": "execute_result"
    }
   ],
   "source": [
    "data1"
   ]
  },
  {
   "cell_type": "code",
   "execution_count": null,
   "id": "6c2889b5-973e-4802-94aa-7c6360ca015e",
   "metadata": {},
   "outputs": [],
   "source": [
    "Write a program to read a file line by line and print its content.\n"
   ]
  },
  {
   "cell_type": "code",
   "execution_count": 21,
   "id": "56a2f36d-dec6-4c2b-bef0-2b6522162d78",
   "metadata": {},
   "outputs": [
    {
     "name": "stdout",
     "output_type": "stream",
     "text": [
      "[]\n"
     ]
    }
   ],
   "source": [
    "with open(r\"C:\\Users\\ChinmayB.WINJITBIOS\\Desktop\\Generalized.txt\", \"r+\") as file:\n",
    "    lines = file.readlines()\n",
    "    print(lines)"
   ]
  },
  {
   "cell_type": "code",
   "execution_count": null,
   "id": "e534608a-74c9-4f3d-bc02-ea1d359a6405",
   "metadata": {},
   "outputs": [],
   "source": []
  },
  {
   "cell_type": "code",
   "execution_count": null,
   "id": "a76a26cc-5496-4c73-bd5e-a5387099d5ba",
   "metadata": {},
   "outputs": [],
   "source": []
  }
 ],
 "metadata": {
  "kernelspec": {
   "display_name": "Python 3 (ipykernel)",
   "language": "python",
   "name": "python3"
  },
  "language_info": {
   "codemirror_mode": {
    "name": "ipython",
    "version": 3
   },
   "file_extension": ".py",
   "mimetype": "text/x-python",
   "name": "python",
   "nbconvert_exporter": "python",
   "pygments_lexer": "ipython3",
   "version": "3.11.9"
  }
 },
 "nbformat": 4,
 "nbformat_minor": 5
}
