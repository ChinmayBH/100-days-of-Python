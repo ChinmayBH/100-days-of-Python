{
 "cells": [
  {
   "cell_type": "markdown",
   "id": "65804181-52cf-47d6-bfeb-0b0c7b4e0c5d",
   "metadata": {},
   "source": [
    "# Python variables \n",
    "#### No need to declare it like C, C++ we can declare it at moment we assign a value to it."
   ]
  },
  {
   "cell_type": "code",
   "execution_count": 4,
   "id": "4c058d9c-41d0-4d60-92b5-d7f6afc82a68",
   "metadata": {},
   "outputs": [
    {
     "name": "stdout",
     "output_type": "stream",
     "text": [
      "5 John\n"
     ]
    }
   ],
   "source": [
    "# How we can declare variables?\n",
    "X = 5\n",
    "y = \"John\"\n",
    "print(X,y)"
   ]
  },
  {
   "cell_type": "code",
   "execution_count": 9,
   "id": "04203143-3d4c-4217-8e48-53e0e6b88d95",
   "metadata": {},
   "outputs": [
    {
     "name": "stdout",
     "output_type": "stream",
     "text": [
      "(2+3j)\n"
     ]
    }
   ],
   "source": [
    "# Types of variables\n",
    "# 1. Numeric variables\n",
    "\n",
    "# int = Stores whole number, whole numbers can be positive, zero or negative\n",
    "num = 2\n",
    "num = -2\n",
    "\n",
    "# float = stores floating point number \n",
    "\n",
    "num = 2.34\n",
    "num = -6.77\n",
    "\n",
    "# complex = stores complex and imaginary numbers \n",
    "num = 2 + 3j\n",
    "print(num)"
   ]
  },
  {
   "cell_type": "code",
   "execution_count": 10,
   "id": "d1b3b3b0-68f3-4beb-a076-b4587e0ca772",
   "metadata": {},
   "outputs": [
    {
     "name": "stdout",
     "output_type": "stream",
     "text": [
      "\n",
      "Hi folks how are you ?\n",
      "its been year since we are working\n",
      "\n"
     ]
    }
   ],
   "source": [
    "# Sequence type\n",
    "\n",
    "# str = stores sequence of characters stores in double or triple quote \n",
    "name = \"Chinmay\"\n",
    "para = \"\"\"\n",
    "Hi folks how are you ?\n",
    "its been year since we are working\n",
    "\"\"\"\n"
   ]
  },
  {
   "cell_type": "code",
   "execution_count": 11,
   "id": "185d836f-b8a5-4104-a367-a2561c06fbc1",
   "metadata": {},
   "outputs": [
    {
     "name": "stdout",
     "output_type": "stream",
     "text": [
      "<class 'bool'>\n"
     ]
    }
   ],
   "source": [
    "# Boolean \n",
    "\n",
    "# either sets true or false \n",
    "is_true = True\n",
    "print(type(is_true))"
   ]
  },
  {
   "cell_type": "code",
   "execution_count": 12,
   "id": "bd942d06-9055-4041-9564-a76d6d2e86b3",
   "metadata": {},
   "outputs": [
    {
     "data": {
      "text/plain": [
       "NoneType"
      ]
     },
     "execution_count": 12,
     "metadata": {},
     "output_type": "execute_result"
    }
   ],
   "source": [
    "# None type\n",
    "\n",
    "# Set as none \n",
    "value  = None\n",
    "type(value)"
   ]
  },
  {
   "cell_type": "code",
   "execution_count": 13,
   "id": "afc69ca8-9f0d-4b6c-a92c-a5313e546831",
   "metadata": {},
   "outputs": [
    {
     "name": "stdout",
     "output_type": "stream",
     "text": [
      "<class 'NoneType'>\n"
     ]
    }
   ],
   "source": [
    "# Checking type of variables\n",
    "print(type(value))"
   ]
  },
  {
   "cell_type": "code",
   "execution_count": 18,
   "id": "44401ee9-e02a-4a87-9e8c-58e0c03b68f5",
   "metadata": {},
   "outputs": [
    {
     "name": "stdout",
     "output_type": "stream",
     "text": [
      "<class 'str'>\n"
     ]
    }
   ],
   "source": [
    "# Conversion of one type to another type\n",
    "\n",
    "# 1. Into str \n",
    "\n",
    "num = 3\n",
    "new_num_int = str(num)\n",
    "num = 4.64\n",
    "new_num_float = str(num)\n",
    "print(type(new_num_float))"
   ]
  },
  {
   "cell_type": "code",
   "execution_count": 21,
   "id": "4a4f1871-ab15-48f3-a269-3bcb5e630f32",
   "metadata": {},
   "outputs": [
    {
     "ename": "ValueError",
     "evalue": "invalid literal for int() with base 10: 'chi'",
     "output_type": "error",
     "traceback": [
      "\u001b[1;31m---------------------------------------------------------------------------\u001b[0m",
      "\u001b[1;31mValueError\u001b[0m                                Traceback (most recent call last)",
      "Cell \u001b[1;32mIn[21], line 3\u001b[0m\n\u001b[0;32m      1\u001b[0m \u001b[38;5;66;03m# 2. Into int\u001b[39;00m\n\u001b[0;32m      2\u001b[0m num \u001b[38;5;241m=\u001b[39m \u001b[38;5;124m\"\u001b[39m\u001b[38;5;124mchi\u001b[39m\u001b[38;5;124m\"\u001b[39m\n\u001b[1;32m----> 3\u001b[0m num_new \u001b[38;5;241m=\u001b[39m \u001b[38;5;28;43mint\u001b[39;49m\u001b[43m(\u001b[49m\u001b[43mnum\u001b[49m\u001b[43m)\u001b[49m\n\u001b[0;32m      4\u001b[0m num_new_float \u001b[38;5;241m=\u001b[39m \u001b[38;5;28mfloat\u001b[39m(num)\n\u001b[0;32m      6\u001b[0m \u001b[38;5;66;03m# We cant convert str into int or float\u001b[39;00m\n",
      "\u001b[1;31mValueError\u001b[0m: invalid literal for int() with base 10: 'chi'"
     ]
    }
   ],
   "source": [
    "# 2. Into int\n",
    "\n",
    "num = \"chi\"\n",
    "num_new = int(num)\n",
    "num_new_float = float(num)\n",
    "\n",
    "# We cant convert str into int or float"
   ]
  },
  {
   "cell_type": "code",
   "execution_count": 22,
   "id": "c0130bc9-3b57-4658-ab12-f871dda3b1a5",
   "metadata": {},
   "outputs": [
    {
     "name": "stdout",
     "output_type": "stream",
     "text": [
      "3.0\n"
     ]
    }
   ],
   "source": [
    "# Into float\n",
    "\n",
    "num = 3\n",
    "new_num = float(3)\n",
    "print(new_num)"
   ]
  },
  {
   "cell_type": "code",
   "execution_count": 25,
   "id": "eb5840de-1025-4391-b584-6e35e636a8b5",
   "metadata": {},
   "outputs": [],
   "source": [
    "# Variable names\n",
    "\n",
    "# what names we can do to a variables?\n",
    "\n",
    "# Accepted :\n",
    "myname = 3\n",
    "my_name = 3\n",
    "my_name4 = 4\n",
    "my_name_4 = \"Chinmay\"\n",
    "_my_name = \"Chinmay\"\n",
    "myVar = 3\n",
    "MYVAR = 4"
   ]
  },
  {
   "cell_type": "code",
   "execution_count": 29,
   "id": "eb3c21ef-2406-4243-8829-5f72901412fa",
   "metadata": {},
   "outputs": [
    {
     "ename": "SyntaxError",
     "evalue": "invalid decimal literal (1436756226.py, line 4)",
     "output_type": "error",
     "traceback": [
      "\u001b[1;36m  Cell \u001b[1;32mIn[29], line 4\u001b[1;36m\u001b[0m\n\u001b[1;33m    3Chinmay = 3\u001b[0m\n\u001b[1;37m    ^\u001b[0m\n\u001b[1;31mSyntaxError\u001b[0m\u001b[1;31m:\u001b[0m invalid decimal literal\n"
     ]
    }
   ],
   "source": [
    "# What names we cant give ?\n",
    "\n",
    "# Not accepted\n",
    "3Chinmay = 3\n",
    "@chinmay = 5\n",
    "chinmay name = 3\n",
    "chinay-name = 4"
   ]
  },
  {
   "cell_type": "code",
   "execution_count": 30,
   "id": "51af74dd-4fd1-4a58-817a-e6fc91b67256",
   "metadata": {},
   "outputs": [
    {
     "name": "stdout",
     "output_type": "stream",
     "text": [
      "3 4 5\n"
     ]
    }
   ],
   "source": [
    "# Assiging multiple values to variables \n",
    "\n",
    "X, Y, Z = 3, 4, 5\n",
    "print(X,Y,Z)"
   ]
  },
  {
   "cell_type": "code",
   "execution_count": 32,
   "id": "8e0c45e3-9597-426c-9b82-bade98a16400",
   "metadata": {},
   "outputs": [
    {
     "name": "stdout",
     "output_type": "stream",
     "text": [
      "Chinmay\n"
     ]
    }
   ],
   "source": [
    "X = Y = Z = \"Chinmay\"\n",
    "print(X)"
   ]
  },
  {
   "cell_type": "code",
   "execution_count": 34,
   "id": "e0142119-70b0-4e75-af4f-adb4e4eee511",
   "metadata": {},
   "outputs": [
    {
     "name": "stdout",
     "output_type": "stream",
     "text": [
      "Chinmay is good\n"
     ]
    }
   ],
   "source": [
    "# Global variables \n",
    "\n",
    "# Variables declare outside the function, are global variables \n",
    "x = \"good\"\n",
    "def greet(name):\n",
    "    return f\"{name} is {x}\"\n",
    "\n",
    "greetings = greet(\"Chinmay\")\n",
    "print(greetings)"
   ]
  },
  {
   "cell_type": "code",
   "execution_count": null,
   "id": "bfb8924e-81b7-42ab-b6a4-b22f3c3c2ae3",
   "metadata": {},
   "outputs": [],
   "source": []
  }
 ],
 "metadata": {
  "kernelspec": {
   "display_name": "Python 3 (ipykernel)",
   "language": "python",
   "name": "python3"
  },
  "language_info": {
   "codemirror_mode": {
    "name": "ipython",
    "version": 3
   },
   "file_extension": ".py",
   "mimetype": "text/x-python",
   "name": "python",
   "nbconvert_exporter": "python",
   "pygments_lexer": "ipython3",
   "version": "3.11.9"
  }
 },
 "nbformat": 4,
 "nbformat_minor": 5
}
