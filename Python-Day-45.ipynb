{
 "cells": [
  {
   "cell_type": "code",
   "execution_count": null,
   "id": "2ecb38c8-751b-4e59-87d9-2bc693dbaf16",
   "metadata": {},
   "outputs": [],
   "source": [
    "SQL for Data Science\n"
   ]
  },
  {
   "cell_type": "code",
   "execution_count": null,
   "id": "ba0ee8df-6b32-4894-afdb-f4b294e84055",
   "metadata": {},
   "outputs": [],
   "source": [
    "SQL stands for Structured Query Language. It is a standardized programming language used to manage and manipulate relational databases. \n",
    "It enables users to perform a variety of tasks such as querying data, creating and modifying database structures, and managing access permissions.\n",
    "SQL is widely used across various relational database management systems such as MySQL, PostgreSQL, Oracle, and SQL Server."
   ]
  },
  {
   "cell_type": "code",
   "execution_count": null,
   "id": "3028fb70-122a-4d52-a56b-54a138f77ceb",
   "metadata": {},
   "outputs": [],
   "source": [
    "Basic Example: Create a list of squares of numbers from 1 to 5:\n"
   ]
  },
  {
   "cell_type": "code",
   "execution_count": 1,
   "id": "d6362e0f-ace6-480c-a20f-1caf9ee91d41",
   "metadata": {},
   "outputs": [
    {
     "data": {
      "text/plain": [
       "[1, 4, 9, 16, 25]"
      ]
     },
     "execution_count": 1,
     "metadata": {},
     "output_type": "execute_result"
    }
   ],
   "source": [
    "squares = [x**2 for x in range(1, 6)]\n",
    "squares"
   ]
  },
  {
   "cell_type": "code",
   "execution_count": null,
   "id": "828a2667-f91b-4dfa-9c50-0a505f2dda38",
   "metadata": {},
   "outputs": [],
   "source": []
  },
  {
   "cell_type": "code",
   "execution_count": 4,
   "id": "d14ce279-4193-4c93-b84c-2d328e0c08b9",
   "metadata": {},
   "outputs": [
    {
     "data": {
      "text/plain": [
       "[1, 4, 9, 16, 25]"
      ]
     },
     "execution_count": 4,
     "metadata": {},
     "output_type": "execute_result"
    }
   ],
   "source": [
    "[x**2 for x in range(1,6)]"
   ]
  },
  {
   "cell_type": "code",
   "execution_count": 9,
   "id": "44ca9e34-e19d-4ecb-a785-2eeffc418edf",
   "metadata": {},
   "outputs": [
    {
     "data": {
      "text/plain": [
       "'Hello,World!'"
      ]
     },
     "execution_count": 9,
     "metadata": {},
     "output_type": "execute_result"
    }
   ],
   "source": [
    "text = \"Hello,World!\"\n",
    "cleaned_text = text.strip()\n",
    "cleaned_text"
   ]
  },
  {
   "cell_type": "code",
   "execution_count": 17,
   "id": "7b8da52f-55e1-4780-b847-45fbfb501d82",
   "metadata": {},
   "outputs": [
    {
     "data": {
      "text/plain": [
       "['Hello', 'World!']"
      ]
     },
     "execution_count": 17,
     "metadata": {},
     "output_type": "execute_result"
    }
   ],
   "source": [
    "text = \"Hello,World!\"\n",
    "e = text.split(\",\")\n",
    "e"
   ]
  },
  {
   "cell_type": "code",
   "execution_count": 16,
   "id": "d0acea45-f28e-4028-86bd-bbba7ea358bb",
   "metadata": {},
   "outputs": [
    {
     "data": {
      "text/plain": [
       "'Hello,World!'"
      ]
     },
     "execution_count": 16,
     "metadata": {},
     "output_type": "execute_result"
    }
   ],
   "source": []
  },
  {
   "cell_type": "code",
   "execution_count": null,
   "id": "4716f93b-a62b-4147-810b-6d04825f066a",
   "metadata": {},
   "outputs": [],
   "source": []
  }
 ],
 "metadata": {
  "kernelspec": {
   "display_name": "Python 3 (ipykernel)",
   "language": "python",
   "name": "python3"
  },
  "language_info": {
   "codemirror_mode": {
    "name": "ipython",
    "version": 3
   },
   "file_extension": ".py",
   "mimetype": "text/x-python",
   "name": "python",
   "nbconvert_exporter": "python",
   "pygments_lexer": "ipython3",
   "version": "3.11.9"
  }
 },
 "nbformat": 4,
 "nbformat_minor": 5
}
