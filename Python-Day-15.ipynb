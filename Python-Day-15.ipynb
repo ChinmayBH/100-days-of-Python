{
 "cells": [
  {
   "cell_type": "code",
   "execution_count": 2,
   "id": "43cbcbba-e030-414c-87fc-d274fee2b6b4",
   "metadata": {},
   "outputs": [
    {
     "name": "stdout",
     "output_type": "stream",
     "text": [
      "Welcome to the simple calculator!\n"
     ]
    },
    {
     "name": "stdin",
     "output_type": "stream",
     "text": [
      "Enter the first number:  55\n",
      "Choose an operator (+, -, *, /):  /\n",
      "Enter the second number:  60\n"
     ]
    },
    {
     "name": "stdout",
     "output_type": "stream",
     "text": [
      "Result: 0.9166666666666666\n"
     ]
    }
   ],
   "source": [
    "def calculator():\n",
    "    print(\"Welcome to the simple calculator!\")\n",
    "    num1 = float(input(\"Enter the first number: \"))\n",
    "    operator = input(\"Choose an operator (+, -, *, /): \")\n",
    "    num2 = float(input(\"Enter the second number: \"))\n",
    "\n",
    "    if operator == '+':\n",
    "        result = num1 + num2\n",
    "    elif operator == '-':\n",
    "        result = num1 - num2\n",
    "    elif operator == '*':\n",
    "        result = num1 * num2\n",
    "    elif operator == '/':\n",
    "        result = num1 / num2 if num2 != 0 else \"Error (division by zero)\"\n",
    "    else:\n",
    "        result = \"Invalid operator\"\n",
    "\n",
    "    print(f\"Result: {result}\")\n",
    "\n",
    "calculator()\n"
   ]
  },
  {
   "cell_type": "code",
   "execution_count": null,
   "id": "ffa2b9d9-fd11-4b06-82da-a91f097218e1",
   "metadata": {},
   "outputs": [],
   "source": []
  }
 ],
 "metadata": {
  "kernelspec": {
   "display_name": "Python 3 (ipykernel)",
   "language": "python",
   "name": "python3"
  },
  "language_info": {
   "codemirror_mode": {
    "name": "ipython",
    "version": 3
   },
   "file_extension": ".py",
   "mimetype": "text/x-python",
   "name": "python",
   "nbconvert_exporter": "python",
   "pygments_lexer": "ipython3",
   "version": "3.11.9"
  }
 },
 "nbformat": 4,
 "nbformat_minor": 5
}
