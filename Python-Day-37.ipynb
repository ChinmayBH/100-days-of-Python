{
 "cells": [
  {
   "cell_type": "code",
   "execution_count": 6,
   "id": "fe66835b-b61d-413b-ae56-55f8f430a62d",
   "metadata": {},
   "outputs": [
    {
     "name": "stdout",
     "output_type": "stream",
     "text": [
      "Features after variance threshold: 3\n",
      "Top 2 features selected by Chi-Square Test: 2\n"
     ]
    }
   ],
   "source": [
    "from sklearn.feature_selection import VarianceThreshold, SelectKBest, chi2\n",
    "from sklearn.datasets import load_iris\n",
    "import pandas as pd\n",
    "\n",
    "# Load sample data\n",
    "data = load_iris()\n",
    "X = pd.DataFrame(data.data, columns=data.feature_names)\n",
    "y = data.target\n",
    "\n",
    "# 1. Variance Threshold\n",
    "threshold = 0.2  # Minimum variance\n",
    "var_thresh = VarianceThreshold(threshold=threshold)\n",
    "X_var = var_thresh.fit_transform(X)\n",
    "print(f\"Features after variance threshold: {X_var.shape[1]}\")\n",
    "\n",
    "# 2. Chi-Square Test\n",
    "k = 2  # Top 2 features\n",
    "chi2_selector = SelectKBest(score_func=chi2, k=k)\n",
    "X_chi2 = chi2_selector.fit_transform(X, y)\n",
    "print(f\"Top {k} features selected by Chi-Square Test: {X_chi2.shape[1]}\")\n"
   ]
  },
  {
   "cell_type": "code",
   "execution_count": 4,
   "id": "692b501d-d091-4fe7-b345-74e1f619f722",
   "metadata": {},
   "outputs": [
    {
     "name": "stdout",
     "output_type": "stream",
     "text": [
      "Selected Features: ['petal length (cm)', 'petal width (cm)']\n"
     ]
    }
   ],
   "source": [
    "from sklearn.feature_selection import RFE\n",
    "from sklearn.linear_model import LogisticRegression\n",
    "from sklearn.datasets import load_iris\n",
    "import pandas as pd\n",
    "\n",
    "# Load sample data\n",
    "data = load_iris()\n",
    "X = pd.DataFrame(data.data, columns=data.feature_names)\n",
    "y = data.target\n",
    "\n",
    "# Logistic Regression Model\n",
    "model = LogisticRegression(max_iter=200)\n",
    "\n",
    "# Recursive Feature Elimination (RFE)\n",
    "rfe = RFE(estimator=model, n_features_to_select=2)  # Select 2 best features\n",
    "X_rfe = rfe.fit_transform(X, y)\n",
    "\n",
    "# Selected Features\n",
    "selected_features = X.columns[rfe.support_]\n",
    "print(f\"Selected Features: {list(selected_features)}\")\n"
   ]
  },
  {
   "cell_type": "code",
   "execution_count": null,
   "id": "f9d8b9d1-7fca-42ac-a8b6-6ca56e0d4780",
   "metadata": {},
   "outputs": [],
   "source": []
  }
 ],
 "metadata": {
  "kernelspec": {
   "display_name": "Python 3 (ipykernel)",
   "language": "python",
   "name": "python3"
  },
  "language_info": {
   "codemirror_mode": {
    "name": "ipython",
    "version": 3
   },
   "file_extension": ".py",
   "mimetype": "text/x-python",
   "name": "python",
   "nbconvert_exporter": "python",
   "pygments_lexer": "ipython3",
   "version": "3.11.9"
  }
 },
 "nbformat": 4,
 "nbformat_minor": 5
}
