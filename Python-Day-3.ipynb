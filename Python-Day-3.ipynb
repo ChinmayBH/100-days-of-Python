{
 "cells": [
  {
   "cell_type": "markdown",
   "id": "e80aa7a9-9194-49a1-9f46-3a8e0507e45c",
   "metadata": {},
   "source": [
    "## Loops in python "
   ]
  },
  {
   "cell_type": "code",
   "execution_count": null,
   "id": "0920e3c9-fd67-4012-ac0d-be94fc1f5d42",
   "metadata": {},
   "outputs": [],
   "source": [
    "# If - else loop in python"
   ]
  },
  {
   "cell_type": "code",
   "execution_count": null,
   "id": "f72808cd-8e04-4de5-bcdf-bd4cc8de7474",
   "metadata": {},
   "outputs": [],
   "source": [
    "# Syntax of if-else loop\n",
    "\n",
    "if condition:\n",
    "    this will execute if condition is true \n",
    "else:\n",
    "    this condition will execute if if condition is not true"
   ]
  },
  {
   "cell_type": "code",
   "execution_count": 3,
   "id": "d8de98e6-f911-46b6-9436-f4127562c65a",
   "metadata": {},
   "outputs": [
    {
     "name": "stdin",
     "output_type": "stream",
     "text": [
      "Enter any number:  2\n"
     ]
    },
    {
     "name": "stdout",
     "output_type": "stream",
     "text": [
      "The input is less that 4\n"
     ]
    }
   ],
   "source": [
    "# Example \n",
    "\n",
    "user_input = int(input(\"Enter any number: \"))\n",
    "if user_input < 4:\n",
    "    print(\"The input is less that 4\")\n",
    "else:\n",
    "    print(\"The input is more than 4\")"
   ]
  },
  {
   "cell_type": "code",
   "execution_count": 7,
   "id": "269d31ca-b0d4-4a93-b11d-1eaaec677876",
   "metadata": {},
   "outputs": [
    {
     "name": "stdin",
     "output_type": "stream",
     "text": [
      "Enter any number:  6\n"
     ]
    },
    {
     "name": "stdout",
     "output_type": "stream",
     "text": [
      "The input is more than 4\n"
     ]
    }
   ],
   "source": [
    "# Using elseif\n",
    "\n",
    "user_input = int(input(\"Enter any number: \"))\n",
    "if user_input < 4:\n",
    "    print(\"The input is less that 4\")\n",
    "elif user_input == 4:\n",
    "    print(\"The input is equal to 4\")\n",
    "else:\n",
    "    print(\"The input is more than 4\")"
   ]
  },
  {
   "cell_type": "code",
   "execution_count": 10,
   "id": "48fe101a-396c-4a79-87d4-ac74ff5acead",
   "metadata": {},
   "outputs": [
    {
     "name": "stdout",
     "output_type": "stream",
     "text": [
      "=\n"
     ]
    }
   ],
   "source": [
    "# short hand\n",
    "a = 5\n",
    "print(\"a\") if a<4 else print(\"=\")"
   ]
  },
  {
   "cell_type": "code",
   "execution_count": 11,
   "id": "0000395c-1bf5-4adc-ab58-1e47e9fcb449",
   "metadata": {},
   "outputs": [],
   "source": [
    "# While loop\n",
    "# In Python, a while loop is used to execute a block of code repeatedly as long as a specified condition is True.\n",
    "# It is useful for scenarios where the number of iterations is not predetermined."
   ]
  },
  {
   "cell_type": "code",
   "execution_count": 16,
   "id": "f0d682bf-1d67-4224-8b2e-a7bdd812023c",
   "metadata": {},
   "outputs": [
    {
     "name": "stdout",
     "output_type": "stream",
     "text": [
      "1\n",
      "2\n",
      "4\n",
      "5\n",
      "6\n"
     ]
    }
   ],
   "source": [
    "i = 0\n",
    "while i < 6:\n",
    "  i += 1\n",
    "  if i == 3:\n",
    "    continue\n",
    "  print(i)"
   ]
  },
  {
   "cell_type": "code",
   "execution_count": 21,
   "id": "c78ff1c7-bf88-43f5-8242-db5ad4c41d99",
   "metadata": {},
   "outputs": [
    {
     "name": "stdout",
     "output_type": "stream",
     "text": [
      "0\n",
      "1\n",
      "2\n",
      "3\n"
     ]
    }
   ],
   "source": [
    "i = 0\n",
    "while i<6:\n",
    "    print(i)\n",
    "    i+=1\n",
    "    if i == 4:\n",
    "        break"
   ]
  },
  {
   "cell_type": "code",
   "execution_count": 22,
   "id": "10d24e3a-b29c-4bd6-89e6-cc316fe8cd4c",
   "metadata": {},
   "outputs": [],
   "source": [
    "# For loop \n",
    "# A for loop is used for iterating over a sequence (that is either a list, a tuple, a dictionary, a set, or a string).\n",
    "#This is less like the for keyword in other programming languages,\n",
    "#and works more like an iterator method as found in other object-orientated programming languages."
   ]
  },
  {
   "cell_type": "code",
   "execution_count": null,
   "id": "7355877c-a996-4a34-80e9-1af15e27579d",
   "metadata": {},
   "outputs": [],
   "source": [
    "# Syntax\n",
    "for item in sequence:\n",
    "    # Do operation"
   ]
  },
  {
   "cell_type": "code",
   "execution_count": 23,
   "id": "57238ba4-a685-4896-93c1-bcf17080a463",
   "metadata": {},
   "outputs": [
    {
     "name": "stdout",
     "output_type": "stream",
     "text": [
      "0\n",
      "1\n",
      "2\n",
      "3\n",
      "4\n"
     ]
    }
   ],
   "source": [
    "num = 5\n",
    "for i in range(5):\n",
    "    print(i)"
   ]
  },
  {
   "cell_type": "code",
   "execution_count": 24,
   "id": "03bb798a-2a5c-44f0-b5bb-78e100df7471",
   "metadata": {},
   "outputs": [
    {
     "name": "stdout",
     "output_type": "stream",
     "text": [
      "i=1, j=1\n",
      "i=1, j=2\n",
      "i=1, j=3\n",
      "i=2, j=1\n",
      "i=2, j=2\n",
      "i=2, j=3\n",
      "i=3, j=1\n",
      "i=3, j=2\n",
      "i=3, j=3\n"
     ]
    }
   ],
   "source": [
    "# Nested for loop\n",
    "for i in range(1, 4):\n",
    "    for j in range(1, 4):\n",
    "        print(f\"i={i}, j={j}\")\n"
   ]
  },
  {
   "cell_type": "code",
   "execution_count": null,
   "id": "113cda57-3173-4146-9797-8513788e76c9",
   "metadata": {},
   "outputs": [],
   "source": [
    "###################################################################################################################################"
   ]
  },
  {
   "cell_type": "markdown",
   "id": "d55ffdf5-ed99-4a34-b2ae-80256370ce83",
   "metadata": {},
   "source": [
    "## Python functions"
   ]
  },
  {
   "cell_type": "code",
   "execution_count": 25,
   "id": "c1417d4e-8f8e-4e8c-b062-b0a6bc457544",
   "metadata": {},
   "outputs": [
    {
     "data": {
      "text/plain": [
       "'\\nA function is a block of code which only runs when it is called.\\n\\nYou can pass data, known as parameters, into a function.\\n\\nA function can return data as a result.'"
      ]
     },
     "execution_count": 25,
     "metadata": {},
     "output_type": "execute_result"
    }
   ],
   "source": [
    "\"\"\"\n",
    "A function is a block of code which only runs when it is called.\n",
    "\n",
    "You can pass data, known as parameters, into a function.\n",
    "\n",
    "A function can return data as a result.\"\"\""
   ]
  },
  {
   "cell_type": "code",
   "execution_count": null,
   "id": "acdc2473-16aa-4db7-9429-1433ff22c931",
   "metadata": {},
   "outputs": [],
   "source": [
    "# Syntax\n",
    "def Function_name(Parameters):\n",
    "    # operations if any\n",
    "    return output "
   ]
  },
  {
   "cell_type": "code",
   "execution_count": 26,
   "id": "7a1bdf6d-6c00-4ab0-bdc6-5d81327a60d9",
   "metadata": {},
   "outputs": [
    {
     "data": {
      "text/plain": [
       "'hello Chinmay !'"
      ]
     },
     "execution_count": 26,
     "metadata": {},
     "output_type": "execute_result"
    }
   ],
   "source": [
    "def greet(name):\n",
    "    return f\"hello {name} !\"\n",
    "greetings = greet(\"Chinmay\")\n",
    "greetings"
   ]
  },
  {
   "cell_type": "code",
   "execution_count": 27,
   "id": "5c7ab3ec-3e66-40a4-b577-6c5a2f631450",
   "metadata": {},
   "outputs": [
    {
     "data": {
      "text/plain": [
       "'\\nIf you do not know how many arguments that will be passed into your \\nfunction, add a * before the parameter name in the function definition.\\n'"
      ]
     },
     "execution_count": 27,
     "metadata": {},
     "output_type": "execute_result"
    }
   ],
   "source": [
    "\"\"\"\n",
    "If you do not know how many arguments that will be passed into your \n",
    "function, add a * before the parameter name in the function definition.\n",
    "\"\"\""
   ]
  },
  {
   "cell_type": "code",
   "execution_count": 30,
   "id": "12e36fde-71ab-42c0-b2e9-651a9a70c0e5",
   "metadata": {},
   "outputs": [
    {
     "name": "stdout",
     "output_type": "stream",
     "text": [
      "The youngest child is naman\n"
     ]
    }
   ],
   "source": [
    "def kids(*kids):\n",
    "      print(\"The youngest child is \" + kids[2])\n",
    "answ = kids(\"Chinmay\",\"satish\",\"naman\")\n",
    "answ"
   ]
  },
  {
   "cell_type": "code",
   "execution_count": 32,
   "id": "aeb62833-5d64-4012-8959-ca0fe9c89f93",
   "metadata": {},
   "outputs": [],
   "source": [
    "# Signature of function that we want to write \n",
    "def name(name):\n",
    "    pass"
   ]
  },
  {
   "cell_type": "code",
   "execution_count": 33,
   "id": "7064e852-d884-4da1-bd43-77d4f2b3ee1c",
   "metadata": {},
   "outputs": [],
   "source": [
    "# Naming the function\n",
    "# you can name function via \n",
    "\n",
    "# snake case\n",
    "def sum_function_is_here ():\n",
    "    pass\n",
    "\n",
    "# camel case\n",
    "def whatIsThisFunction():\n",
    "    pass\n",
    "\n",
    "# Pascal case\n",
    "def WhatIsThisFunxtion():\n",
    "    pass\n",
    "\n",
    "# Upper snake case\n",
    "def MY_FUNCTION_NAME():\n",
    "    pass"
   ]
  },
  {
   "cell_type": "code",
   "execution_count": 34,
   "id": "1006f42e-a54b-424e-af4e-34701b076748",
   "metadata": {},
   "outputs": [
    {
     "data": {
      "text/plain": [
       "7"
      ]
     },
     "execution_count": 34,
     "metadata": {},
     "output_type": "execute_result"
    }
   ],
   "source": [
    "# docstrings\n",
    "# this are used to understand what function is doing or documentation for function\n",
    "\n",
    "def addition(a,b):\n",
    "    \"\"\"\n",
    "    this function takes 2 inputs and splits out addition for those\n",
    "\n",
    "    Args:\n",
    "        a (float) : First number\n",
    "        b (float) : Second number\n",
    "\n",
    "    Returns:\n",
    "        c (float) : Addition of a and b\n",
    "    \n",
    "    \"\"\"\n",
    "    c = a+b\n",
    "    return c\n",
    "add = addition(3,4)\n",
    "add"
   ]
  },
  {
   "cell_type": "code",
   "execution_count": 36,
   "id": "3c64bce6-db12-4949-a044-a4208fb6e930",
   "metadata": {},
   "outputs": [
    {
     "name": "stdout",
     "output_type": "stream",
     "text": [
      "Help on function addition in module __main__:\n",
      "\n",
      "addition(a, b)\n",
      "    this function takes 2 inputs and splits out addition for those\n",
      "    \n",
      "    Args:\n",
      "        a (float) : First number\n",
      "        b (float) : Second number\n",
      "    \n",
      "    Returns:\n",
      "        c (float) : Addition of a and b\n",
      "\n"
     ]
    }
   ],
   "source": [
    "help(addition)"
   ]
  },
  {
   "cell_type": "code",
   "execution_count": 37,
   "id": "dbc78660-ebc1-4b76-841b-04c9e2ca838d",
   "metadata": {},
   "outputs": [
    {
     "data": {
      "text/plain": [
       "'\\nIn Python, you can define input types (also known as type hints or type annotations) for function arguments\\nand return values using the PEP 484 style.\\n'"
      ]
     },
     "execution_count": 37,
     "metadata": {},
     "output_type": "execute_result"
    }
   ],
   "source": [
    "\"\"\"\n",
    "In Python, you can define input types (also known as type hints or type annotations) for function arguments\n",
    "and return values using the PEP 484 style.\n",
    "\"\"\""
   ]
  },
  {
   "cell_type": "code",
   "execution_count": 38,
   "id": "15df7721-b7e2-45c0-a749-e51f1fd5d660",
   "metadata": {},
   "outputs": [
    {
     "data": {
      "text/plain": [
       "7"
      ]
     },
     "execution_count": 38,
     "metadata": {},
     "output_type": "execute_result"
    }
   ],
   "source": [
    "def addition(a:float,b:float) -> int:\n",
    "    \"\"\"\n",
    "    this function takes 2 inputs and splits out addition for those\n",
    "\n",
    "    Args:\n",
    "        a (float) : First number\n",
    "        b (float) : Second number\n",
    "\n",
    "    Returns:\n",
    "        c (float) : Addition of a and b\n",
    "    \n",
    "    \"\"\"\n",
    "    c = a+b\n",
    "    return c\n",
    "add = addition(3,4)\n",
    "add"
   ]
  },
  {
   "cell_type": "code",
   "execution_count": 40,
   "id": "3cac45ca-70d8-4e4b-a720-daf28ee05b6b",
   "metadata": {},
   "outputs": [
    {
     "data": {
      "text/plain": [
       "'\\nA lambda function is a small anonymous function.\\n\\nA lambda function can take any number of arguments, but can only have one expression.\\n'"
      ]
     },
     "execution_count": 40,
     "metadata": {},
     "output_type": "execute_result"
    }
   ],
   "source": [
    "\"\"\"\n",
    "A lambda function is a small anonymous function.\n",
    "\n",
    "A lambda function can take any number of arguments, but can only have one expression.\n",
    "\"\"\""
   ]
  },
  {
   "cell_type": "code",
   "execution_count": null,
   "id": "5b9eb1b3-9add-47af-b943-579e3de8283c",
   "metadata": {},
   "outputs": [],
   "source": [
    "# syntax\n",
    "lambda arguments : expression\n"
   ]
  },
  {
   "cell_type": "code",
   "execution_count": 44,
   "id": "31c5d3dc-16ac-4719-bb66-788f4d5fe94f",
   "metadata": {},
   "outputs": [
    {
     "data": {
      "text/plain": [
       "25"
      ]
     },
     "execution_count": 44,
     "metadata": {},
     "output_type": "execute_result"
    }
   ],
   "source": [
    "x = lambda a: a + 10\n",
    "x(15)"
   ]
  },
  {
   "cell_type": "code",
   "execution_count": 45,
   "id": "1b940688-258c-4bf9-a12e-82ae5a8f596a",
   "metadata": {},
   "outputs": [
    {
     "data": {
      "text/plain": [
       "6"
      ]
     },
     "execution_count": 45,
     "metadata": {},
     "output_type": "execute_result"
    }
   ],
   "source": [
    "x = lambda a,b,c : a+b+c\n",
    "\n",
    "x(1,2,3)"
   ]
  },
  {
   "cell_type": "code",
   "execution_count": null,
   "id": "df5862e6-8810-4b53-821c-7f72396c160d",
   "metadata": {},
   "outputs": [],
   "source": []
  },
  {
   "cell_type": "code",
   "execution_count": null,
   "id": "fef058ab-32c6-4205-bfe4-8aff1b086427",
   "metadata": {},
   "outputs": [],
   "source": []
  }
 ],
 "metadata": {
  "kernelspec": {
   "display_name": "Python 3 (ipykernel)",
   "language": "python",
   "name": "python3"
  },
  "language_info": {
   "codemirror_mode": {
    "name": "ipython",
    "version": 3
   },
   "file_extension": ".py",
   "mimetype": "text/x-python",
   "name": "python",
   "nbconvert_exporter": "python",
   "pygments_lexer": "ipython3",
   "version": "3.11.9"
  }
 },
 "nbformat": 4,
 "nbformat_minor": 5
}
