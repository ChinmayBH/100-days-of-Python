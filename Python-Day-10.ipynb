{
 "cells": [
  {
   "cell_type": "code",
   "execution_count": null,
   "id": "6230a1ab-c0de-4d21-be1e-56bac9d8efbc",
   "metadata": {},
   "outputs": [],
   "source": [
    "# Python3 code to demonstrate working of\n",
    "# Get Kth Column of Matrix\n",
    "# using list comprehension\n",
    "\n",
    "# initialize list\n",
    "test_list = [[4, 5, 6], [8, 1, 10], [7, 12, 5]]\n",
    "\n",
    "# printing original list\n",
    "print(\"The original list is : \" + str(test_list))\n",
    "\n",
    "# initialize K\n",
    "K = 2\n",
    "\n",
    "# Get Kth Column of Matrix\n",
    "# using list comprehension\n",
    "res = [sub[K] for sub in test_list]\n",
    "\n",
    "# printing result\n",
    "print(\"The Kth column of matrix is : \" + str(res))\n"
   ]
  }
 ],
 "metadata": {
  "kernelspec": {
   "display_name": "Python 3 (ipykernel)",
   "language": "python",
   "name": "python3"
  },
  "language_info": {
   "codemirror_mode": {
    "name": "ipython",
    "version": 3
   },
   "file_extension": ".py",
   "mimetype": "text/x-python",
   "name": "python",
   "nbconvert_exporter": "python",
   "pygments_lexer": "ipython3",
   "version": "3.11.9"
  }
 },
 "nbformat": 4,
 "nbformat_minor": 5
}
