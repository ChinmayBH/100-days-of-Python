{
 "cells": [
  {
   "cell_type": "code",
   "execution_count": 16,
   "id": "2641d7ae-147b-4713-acc1-f44e21193557",
   "metadata": {},
   "outputs": [],
   "source": [
    "num = 7\n",
    "\n",
    "def fibonacci(num:int):\n",
    "    f = 0\n",
    "    s = 1\n",
    "    for i in range(f,num+1):\n",
    "        seq = []\n",
    "        n = f + s\n",
    "        print(f,end = \" \")\n",
    "        f = s\n",
    "        s = n\n"
   ]
  },
  {
   "cell_type": "code",
   "execution_count": 19,
   "id": "7430f77b-b450-4fcf-aa75-39ebf2a44fd0",
   "metadata": {},
   "outputs": [
    {
     "name": "stdout",
     "output_type": "stream",
     "text": [
      "0 1 1 2 3 5 8 13 21 34 "
     ]
    }
   ],
   "source": [
    "e = fibonacci(9)\n",
    "e"
   ]
  },
  {
   "cell_type": "code",
   "execution_count": 20,
   "id": "3301a495-e764-4ded-bad9-ca72a77b9d5b",
   "metadata": {},
   "outputs": [
    {
     "data": {
      "text/plain": [
       "'\\nPlease write a program using generator to print the even numbers between 0 and n in comma separated form while n is input by console.\\n'"
      ]
     },
     "execution_count": 20,
     "metadata": {},
     "output_type": "execute_result"
    }
   ],
   "source": [
    "\"\"\"\n",
    "Please write a program using generator to print the even numbers between 0 and n in comma separated form while n is input by console.\n",
    "\"\"\""
   ]
  },
  {
   "cell_type": "code",
   "execution_count": 36,
   "id": "7f764bb6-787e-4ab5-a48c-d0cc3289bf2d",
   "metadata": {},
   "outputs": [],
   "source": [
    "def even_nums(num:int):\n",
    "    ev = []\n",
    "    for i in range(1,num+1):\n",
    "        if i%2 == 0:\n",
    "            ev.append(i)\n",
    "        else:\n",
    "            pass\n",
    "    return print(ev, sep = \" \")\n",
    "    #ev\n",
    "            \n",
    "        "
   ]
  },
  {
   "cell_type": "code",
   "execution_count": 37,
   "id": "0adf1293-2eb3-4b49-bab0-3a0ebd359cee",
   "metadata": {},
   "outputs": [
    {
     "name": "stdout",
     "output_type": "stream",
     "text": [
      "[2, 4, 6, 8, 10, 12, 14, 16, 18, 20, 22, 24, 26, 28, 30, 32, 34, 36, 38, 40, 42, 44]\n"
     ]
    }
   ],
   "source": [
    "e = even_nums(45)\n",
    "e"
   ]
  },
  {
   "cell_type": "code",
   "execution_count": 31,
   "id": "ac9281ae-555e-46a2-9c0a-6a51e93af0be",
   "metadata": {},
   "outputs": [
    {
     "name": "stdin",
     "output_type": "stream",
     "text": [
      " 6\n"
     ]
    }
   ],
   "source": [
    "def EvenGenerator(n):\n",
    "    i = 0\n",
    "    while i < n:\n",
    "        if i%2 == 0:\n",
    "            yield i\n",
    "        i+=1\n",
    "\n",
    "inp = int(input())\n",
    "values = []\n",
    "for i in EvenGenerator(n):\n",
    "    values.append(str(i))\n",
    "\n",
    "    "
   ]
  },
  {
   "cell_type": "code",
   "execution_count": 30,
   "id": "36dcd404-8eae-4bd1-bc7e-1fce9537e551",
   "metadata": {},
   "outputs": [
    {
     "data": {
      "text/plain": [
       "<generator object EvenGenerator at 0x000001CDC239B370>"
      ]
     },
     "execution_count": 30,
     "metadata": {},
     "output_type": "execute_result"
    }
   ],
   "source": [
    "t = EvenGenerator(55)\n",
    "t"
   ]
  },
  {
   "cell_type": "code",
   "execution_count": 34,
   "id": "b42758b2-5e85-4d2b-bde3-6e65a73c067d",
   "metadata": {},
   "outputs": [
    {
     "data": {
      "text/plain": [
       "'\\nwhen we use yeild is when a function we want to run many times for the list of array of inputs \\n'"
      ]
     },
     "execution_count": 34,
     "metadata": {},
     "output_type": "execute_result"
    }
   ],
   "source": [
    "########\n",
    "\"\"\"\n",
    "when we use yeild is when a function we want to run many times for the list of array of inputs \n",
    "\"\"\"\n"
   ]
  },
  {
   "cell_type": "code",
   "execution_count": 39,
   "id": "3ba19f0d-bb0f-4c18-8d35-79c35dcb9658",
   "metadata": {},
   "outputs": [
    {
     "data": {
      "text/plain": [
       "'\\n1. FizzBuzz\\nWrite a program that prints the numbers from 1 to 100. But for multiples of three, print \"Fizz\" instead of the number, \\nand for the multiples of five, print \"Buzz\". For numbers which are multiples of both three and five, print \"FizzBuzz\".\\n'"
      ]
     },
     "execution_count": 39,
     "metadata": {},
     "output_type": "execute_result"
    }
   ],
   "source": [
    "\"\"\"\n",
    "1. FizzBuzz\n",
    "Write a program that prints the numbers from 1 to 100. But for multiples of three, print \"Fizz\" instead of the number, \n",
    "and for the multiples of five, print \"Buzz\". For numbers which are multiples of both three and five, print \"FizzBuzz\".\n",
    "\"\"\""
   ]
  },
  {
   "cell_type": "code",
   "execution_count": 52,
   "id": "6269f9dd-fb27-47d3-b81f-98b01f678ad7",
   "metadata": {},
   "outputs": [
    {
     "name": "stdout",
     "output_type": "stream",
     "text": [
      "1\n",
      "2\n",
      "3\n",
      "Fizz\n",
      "4\n",
      "5\n",
      "Buzz\n",
      "6\n",
      "Fizz\n",
      "7\n",
      "8\n",
      "9\n",
      "Fizz\n",
      "10\n",
      "Buzz\n",
      "11\n",
      "12\n",
      "Fizz\n",
      "13\n",
      "14\n",
      "FizzBuzz\n",
      "Fizz\n",
      "Buzz\n",
      "16\n",
      "17\n",
      "18\n",
      "Fizz\n",
      "19\n",
      "20\n",
      "Buzz\n",
      "21\n",
      "Fizz\n",
      "22\n",
      "23\n",
      "24\n",
      "Fizz\n",
      "25\n",
      "Buzz\n",
      "26\n",
      "27\n",
      "Fizz\n",
      "28\n",
      "29\n",
      "FizzBuzz\n",
      "Fizz\n",
      "Buzz\n",
      "31\n",
      "32\n",
      "33\n",
      "Fizz\n",
      "34\n",
      "35\n",
      "Buzz\n",
      "36\n",
      "Fizz\n",
      "37\n",
      "38\n",
      "39\n",
      "Fizz\n",
      "40\n",
      "Buzz\n",
      "41\n",
      "42\n",
      "Fizz\n",
      "43\n",
      "44\n",
      "FizzBuzz\n",
      "Fizz\n",
      "Buzz\n",
      "46\n",
      "47\n",
      "48\n",
      "Fizz\n",
      "49\n",
      "50\n",
      "Buzz\n",
      "51\n",
      "Fizz\n",
      "52\n",
      "53\n",
      "54\n",
      "Fizz\n",
      "55\n",
      "Buzz\n",
      "56\n",
      "57\n",
      "Fizz\n",
      "58\n",
      "59\n",
      "FizzBuzz\n",
      "Fizz\n",
      "Buzz\n",
      "61\n",
      "62\n",
      "63\n",
      "Fizz\n",
      "64\n",
      "65\n",
      "Buzz\n",
      "66\n",
      "Fizz\n",
      "67\n",
      "68\n",
      "69\n",
      "Fizz\n",
      "70\n",
      "Buzz\n",
      "71\n",
      "72\n",
      "Fizz\n",
      "73\n",
      "74\n",
      "FizzBuzz\n",
      "Fizz\n",
      "Buzz\n",
      "76\n",
      "77\n",
      "78\n",
      "Fizz\n",
      "79\n",
      "80\n",
      "Buzz\n",
      "81\n",
      "Fizz\n",
      "82\n",
      "83\n",
      "84\n",
      "Fizz\n",
      "85\n",
      "Buzz\n",
      "86\n",
      "87\n",
      "Fizz\n",
      "88\n",
      "89\n",
      "FizzBuzz\n",
      "Fizz\n",
      "Buzz\n",
      "91\n",
      "92\n",
      "93\n",
      "Fizz\n",
      "94\n",
      "95\n",
      "Buzz\n",
      "96\n",
      "Fizz\n",
      "97\n",
      "98\n",
      "99\n",
      "Fizz\n",
      "100\n",
      "Buzz\n"
     ]
    }
   ],
   "source": [
    "for i in range(1,101):\n",
    "    if i%3 == 0 and i%5 == 0:\n",
    "        print(\"FizzBuzz\")\n",
    "    else:\n",
    "        print(i)\n",
    "    if i % 3 == 0:\n",
    "        print(\"Fizz\")\n",
    "    if i % 5 == 0:\n",
    "        print(\"Buzz\")\n"
   ]
  },
  {
   "cell_type": "code",
   "execution_count": 53,
   "id": "23ca31fa-9d7f-4444-826e-d51c031632f3",
   "metadata": {},
   "outputs": [
    {
     "data": {
      "text/plain": [
       "'\\nCreate a function that takes a string as input and returns the string reversed.\\n'"
      ]
     },
     "execution_count": 53,
     "metadata": {},
     "output_type": "execute_result"
    }
   ],
   "source": [
    "\"\"\"\n",
    "Create a function that takes a string as input and returns the string reversed.\n",
    "\"\"\""
   ]
  },
  {
   "cell_type": "code",
   "execution_count": 54,
   "id": "846c9ed5-cf9a-457a-8674-2660d516d25f",
   "metadata": {},
   "outputs": [
    {
     "data": {
      "text/plain": [
       "'nfunffvd'"
      ]
     },
     "execution_count": 54,
     "metadata": {},
     "output_type": "execute_result"
    }
   ],
   "source": [
    "def rever(sent:str):\n",
    "    new = sent[::-1]\n",
    "    return new\n",
    "\n",
    "ww = rever(\"dvffnufn\")\n",
    "ww"
   ]
  },
  {
   "cell_type": "code",
   "execution_count": 55,
   "id": "20d0c5fc-b6ec-406a-b076-2dbb0a854aa5",
   "metadata": {},
   "outputs": [
    {
     "data": {
      "text/plain": [
       "'\\nWrite a function that calculates the factorial of a number using recursion.\\n'"
      ]
     },
     "execution_count": 55,
     "metadata": {},
     "output_type": "execute_result"
    }
   ],
   "source": [
    "\"\"\"\n",
    "Write a function that calculates the factorial of a number using recursion.\n",
    "\"\"\""
   ]
  },
  {
   "cell_type": "code",
   "execution_count": 68,
   "id": "64cfffa9-8955-4880-b2ed-67c19c4e94e9",
   "metadata": {},
   "outputs": [
    {
     "name": "stdout",
     "output_type": "stream",
     "text": [
      "1 2 6 24 120 "
     ]
    }
   ],
   "source": [
    "def fact(num:int):\n",
    "    fact = 1\n",
    "    for i in range(1,num):\n",
    "        fact += fact*i\n",
    "    return fact\n",
    "\n",
    "r = [1,2,3,4,5]\n",
    "for i in r:\n",
    "    t = fact(i)\n",
    "    print(t,end = \" \")"
   ]
  },
  {
   "cell_type": "code",
   "execution_count": 69,
   "id": "fcf4c24d-5c9b-4eec-83c9-de6d0b694ac5",
   "metadata": {},
   "outputs": [
    {
     "data": {
      "text/plain": [
       "'\\nCreate a function that checks if a given string is a palindrome (reads the same backward as forward).\\n'"
      ]
     },
     "execution_count": 69,
     "metadata": {},
     "output_type": "execute_result"
    }
   ],
   "source": [
    "\"\"\"\n",
    "Create a function that checks if a given string is a palindrome (reads the same backward as forward).\n",
    "\"\"\""
   ]
  },
  {
   "cell_type": "code",
   "execution_count": 73,
   "id": "29197ff7-6e84-4839-b125-dac3f61568a9",
   "metadata": {},
   "outputs": [
    {
     "name": "stdin",
     "output_type": "stream",
     "text": [
      " LOWER\n"
     ]
    },
    {
     "name": "stdout",
     "output_type": "stream",
     "text": [
      "NO, It is not a Palindrome\n"
     ]
    }
   ],
   "source": [
    "ip = input().replace(\" \",\"\").lower()\n",
    "ip1 = ip[::-1]\n",
    "if ip == ip1:\n",
    "    print(\"YES, It is Palindrome\")\n",
    "else:\n",
    "    print(\"NO, It is not a Palindrome\")"
   ]
  },
  {
   "cell_type": "code",
   "execution_count": 74,
   "id": "04eacb0f-5627-47cd-bf5e-97604ad72e4a",
   "metadata": {},
   "outputs": [
    {
     "data": {
      "text/plain": [
       "'\\nWrite a function that generates the first n numbers in the Fibonacci sequence.\\n'"
      ]
     },
     "execution_count": 74,
     "metadata": {},
     "output_type": "execute_result"
    }
   ],
   "source": [
    "\"\"\"\n",
    "Write a function that generates the first n numbers in the Fibonacci sequence.\n",
    "\"\"\""
   ]
  },
  {
   "cell_type": "code",
   "execution_count": 83,
   "id": "6164aa4a-7c3c-4265-8c0a-e2f6213215a2",
   "metadata": {},
   "outputs": [
    {
     "name": "stdout",
     "output_type": "stream",
     "text": [
      "1 1 2 3 5 8 13 "
     ]
    }
   ],
   "source": [
    "num = 6\n",
    "f = 0\n",
    "s = 1\n",
    "for i in range(0,num+1):\n",
    "    t = f+s\n",
    "    f = s\n",
    "    s = t\n",
    "    print(f,end = \" \")\n"
   ]
  },
  {
   "cell_type": "code",
   "execution_count": 84,
   "id": "e6478120-ebf6-41d9-bbbf-f2c03e2ca7e3",
   "metadata": {},
   "outputs": [
    {
     "data": {
      "text/plain": [
       "'\\nCreate a function that checks if a number is prime.\\n'"
      ]
     },
     "execution_count": 84,
     "metadata": {},
     "output_type": "execute_result"
    }
   ],
   "source": [
    "\"\"\"\n",
    "Create a function that checks if a number is prime.\n",
    "\"\"\""
   ]
  },
  {
   "cell_type": "code",
   "execution_count": 124,
   "id": "be5fff91-6f4e-4fd6-b206-a9033f6bcfc2",
   "metadata": {},
   "outputs": [
    {
     "name": "stdin",
     "output_type": "stream",
     "text": [
      " 9\n"
     ]
    },
    {
     "name": "stdout",
     "output_type": "stream",
     "text": [
      "the number is 9\n",
      "Not a prime\n"
     ]
    }
   ],
   "source": [
    "inp = int(input())\n",
    "print(\"the number is\",inp)\n",
    "sq = int(inp**0.5)\n",
    "is_prime = True\n",
    "for i in range(2,inp):\n",
    "    if inp%i == 0:\n",
    "        is_prime = False        \n",
    "        break\n",
    "if is_prime:\n",
    "        print(\"Prime number\")\n",
    "if not is_prime :\n",
    "        print(\"Not a prime\")"
   ]
  },
  {
   "cell_type": "code",
   "execution_count": 123,
   "id": "ad8f3b69-572f-4616-a99a-e3d9ac1ccdde",
   "metadata": {},
   "outputs": [
    {
     "name": "stdin",
     "output_type": "stream",
     "text": [
      "Enter a number:  78\n"
     ]
    },
    {
     "name": "stdout",
     "output_type": "stream",
     "text": [
      "Not Prime\n"
     ]
    }
   ],
   "source": [
    "inp = int(input(\"Enter a number: \"))\n",
    "if inp <= 1:\n",
    "    print(\"Not Prime\")\n",
    "else:\n",
    "    sq = int(inp**0.5)\n",
    "    is_prime = True  # Assume the number is prime\n",
    "    for i in range(2, sq + 1):  # Check divisors from 2 to sqrt(inp)\n",
    "        if inp % i == 0:\n",
    "            is_prime = False\n",
    "            break\n",
    "    if is_prime:\n",
    "        print(\"Prime\")\n",
    "    else:\n",
    "        print(\"Not Prime\")"
   ]
  },
  {
   "cell_type": "code",
   "execution_count": 125,
   "id": "b4c3497a-f161-428f-b455-00849b2f5a1e",
   "metadata": {},
   "outputs": [
    {
     "data": {
      "text/plain": [
       "'\\nWrite a function that checks if two strings are anagrams of each other (contain the same characters in different orders).\\n'"
      ]
     },
     "execution_count": 125,
     "metadata": {},
     "output_type": "execute_result"
    }
   ],
   "source": [
    "\"\"\"\n",
    "Write a function that checks if two strings are anagrams of each other (contain the same characters in different orders).\n",
    "\"\"\""
   ]
  },
  {
   "cell_type": "code",
   "execution_count": 142,
   "id": "6b65992b-f1a4-4781-a94a-0429079616e8",
   "metadata": {},
   "outputs": [
    {
     "name": "stdout",
     "output_type": "stream",
     "text": [
      "char1_new: ['f', 'g', 'g', 's']\n",
      "char2_new: ['f', 'g', 'g', 's']\n",
      "Yes they are\n"
     ]
    }
   ],
   "source": [
    "char1 = \"sgfg\"\n",
    "char2 = \"gsfg\"\n",
    "\n",
    "if len(char1) != len(char2):\n",
    "    print(\"Not a Anagram strings\")\n",
    "else:\n",
    "    char1_new = sorted(char1)\n",
    "    char2_new = sorted(char2)\n",
    "    print(\"char1_new:\",char1_new)\n",
    "    print(\"char2_new:\",char2_new)\n",
    "    if char1_new == char2_new:\n",
    "        print(\"Yes they are\")\n",
    "    else:\n",
    "        print(\"No they are\")\n",
    "    \n",
    "        "
   ]
  },
  {
   "cell_type": "code",
   "execution_count": 143,
   "id": "57955f39-69cc-4fd7-a512-82c88b6e11ab",
   "metadata": {},
   "outputs": [],
   "source": [
    "################ sorted is used when we want to sort str "
   ]
  },
  {
   "cell_type": "code",
   "execution_count": 144,
   "id": "ba37e4d7-ee95-43ca-b2dd-5ed57ecc772d",
   "metadata": {},
   "outputs": [
    {
     "data": {
      "text/plain": [
       "'\\nWrite a function to merge two sorted lists into one sorted list.\\n'"
      ]
     },
     "execution_count": 144,
     "metadata": {},
     "output_type": "execute_result"
    }
   ],
   "source": [
    "\"\"\"\n",
    "Write a function to merge two sorted lists into one sorted list.\n",
    "\"\"\""
   ]
  },
  {
   "cell_type": "code",
   "execution_count": 147,
   "id": "49febf91-82af-43a4-9123-1def9d53376b",
   "metadata": {},
   "outputs": [
    {
     "data": {
      "text/plain": [
       "[1, 3, 5, 7, 9, 2, 4, 6, 8, 10]"
      ]
     },
     "execution_count": 147,
     "metadata": {},
     "output_type": "execute_result"
    }
   ],
   "source": [
    "e = [1,3,5,7,9]\n",
    "f = [2,4,6,8,10]\n",
    "t = e + f\n",
    "t"
   ]
  },
  {
   "cell_type": "code",
   "execution_count": null,
   "id": "8c6ad1bf-7b02-498a-844a-47df4029a991",
   "metadata": {},
   "outputs": [],
   "source": []
  }
 ],
 "metadata": {
  "kernelspec": {
   "display_name": "Python 3 (ipykernel)",
   "language": "python",
   "name": "python3"
  },
  "language_info": {
   "codemirror_mode": {
    "name": "ipython",
    "version": 3
   },
   "file_extension": ".py",
   "mimetype": "text/x-python",
   "name": "python",
   "nbconvert_exporter": "python",
   "pygments_lexer": "ipython3",
   "version": "3.11.9"
  }
 },
 "nbformat": 4,
 "nbformat_minor": 5
}
