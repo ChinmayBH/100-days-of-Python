{
 "cells": [
  {
   "cell_type": "code",
   "execution_count": 1,
   "id": "7167be32-af41-45ba-8987-2d7d71fe6ef2",
   "metadata": {},
   "outputs": [
    {
     "data": {
      "text/plain": [
       "'\\nWrite a function to merge two sorted lists into one sorted list.\\n'"
      ]
     },
     "execution_count": 1,
     "metadata": {},
     "output_type": "execute_result"
    }
   ],
   "source": [
    "\"\"\"\n",
    "Write a function to merge two sorted lists into one sorted list.\n",
    "\"\"\""
   ]
  },
  {
   "cell_type": "code",
   "execution_count": 2,
   "id": "4c220b24-3a09-4a0e-b4f3-e5709c42bbbe",
   "metadata": {},
   "outputs": [
    {
     "data": {
      "text/plain": [
       "[1, 3, 5, 7, 9, 2, 4, 6, 8, 10]"
      ]
     },
     "execution_count": 2,
     "metadata": {},
     "output_type": "execute_result"
    }
   ],
   "source": [
    "e = [1,3,5,7,9]\n",
    "f = [2,4,6,8,10]\n",
    "t = e + f\n",
    "t"
   ]
  },
  {
   "cell_type": "code",
   "execution_count": 16,
   "id": "e76d343a-0a55-4557-b680-3ba43a8cc006",
   "metadata": {},
   "outputs": [],
   "source": [
    "def mer_sor_list(list1, list2):\n",
    "    i,j = 0,0\n",
    "    sorted_list = []\n",
    "    while i < len(list1) and j < len(list2):\n",
    "        if list1[i] < list2[j]:\n",
    "            sorted_list.append(list1[i])\n",
    "            i+=1\n",
    "        else:\n",
    "            sorted_list.append(list2[j])\n",
    "            j+=1\n",
    "    while i < len(list1):\n",
    "        sorted_list.append(list1[i])\n",
    "        i+=1\n",
    "    while j < len(list2):\n",
    "        sorted_list.append(list2[j])\n",
    "        j+=1\n",
    "    return sorted_list    "
   ]
  },
  {
   "cell_type": "code",
   "execution_count": 17,
   "id": "da5f8b75-4935-421d-bc53-cb21b02608ad",
   "metadata": {},
   "outputs": [
    {
     "data": {
      "text/plain": [
       "[1, 2, 3, 4, 5, 6, 7, 8, 9, 10]"
      ]
     },
     "execution_count": 17,
     "metadata": {},
     "output_type": "execute_result"
    }
   ],
   "source": [
    "e = [1,3,5,7,9]\n",
    "f = [2,4,6,8,10]\n",
    "\n",
    "r = mer_sor_list(e,f)\n",
    "r\n",
    "\n"
   ]
  },
  {
   "cell_type": "code",
   "execution_count": 18,
   "id": "270fc6c7-3f49-4721-a2c4-dbf20854d89b",
   "metadata": {},
   "outputs": [
    {
     "data": {
      "text/plain": [
       "'\\nWrite a function that takes a list of numbers and returns the sum of all the elements.\\n'"
      ]
     },
     "execution_count": 18,
     "metadata": {},
     "output_type": "execute_result"
    }
   ],
   "source": [
    "\"\"\"\n",
    "Write a function that takes a list of numbers and returns the sum of all the elements.\n",
    "\"\"\""
   ]
  },
  {
   "cell_type": "code",
   "execution_count": 19,
   "id": "20194497-41dc-4330-aef2-74ad71715911",
   "metadata": {},
   "outputs": [
    {
     "data": {
      "text/plain": [
       "15"
      ]
     },
     "execution_count": 19,
     "metadata": {},
     "output_type": "execute_result"
    }
   ],
   "source": [
    "def sum_list(your_list:list):\n",
    "    total = 0\n",
    "    for i in your_list:\n",
    "        total+=i\n",
    "    return total\n",
    "r = [1,2,3,4,5]\n",
    "t = sum_list(r)\n",
    "t\n",
    "    "
   ]
  },
  {
   "cell_type": "code",
   "execution_count": 20,
   "id": "081ff34a-7b9f-4eba-9a59-8881e8d14e95",
   "metadata": {},
   "outputs": [
    {
     "data": {
      "text/plain": [
       "'\\nWrite a function that finds the second largest number in a list.\\n'"
      ]
     },
     "execution_count": 20,
     "metadata": {},
     "output_type": "execute_result"
    }
   ],
   "source": [
    "\"\"\"\n",
    "Write a function that finds the second largest number in a list.\n",
    "\"\"\""
   ]
  },
  {
   "cell_type": "code",
   "execution_count": 32,
   "id": "b1228d31-e6c3-43c1-a618-059fcd7c11fe",
   "metadata": {},
   "outputs": [
    {
     "name": "stdout",
     "output_type": "stream",
     "text": [
      "[1, 2, 3, 5, 7, 9]\n"
     ]
    },
    {
     "data": {
      "text/plain": [
       "7"
      ]
     },
     "execution_count": 32,
     "metadata": {},
     "output_type": "execute_result"
    }
   ],
   "source": [
    "def se_lar(your_list:list):\n",
    "    your_list.sort()\n",
    "    print(your_list)\n",
    "    your_list.pop()\n",
    "    return your_list[-1]\n",
    "r = [3,5,2,1,7,9]\n",
    "t = se_lar(r)\n",
    "t"
   ]
  },
  {
   "cell_type": "code",
   "execution_count": 28,
   "id": "815a37c2-bcc5-453c-8637-aaf13b5b6150",
   "metadata": {},
   "outputs": [
    {
     "data": {
      "text/plain": [
       "[1, 2, 4, 5, 5, 7]"
      ]
     },
     "execution_count": 28,
     "metadata": {},
     "output_type": "execute_result"
    }
   ],
   "source": [
    "your_list = [4,5,2,1,5,7]\n",
    "your_list.sort()\n",
    "your_list"
   ]
  },
  {
   "cell_type": "code",
   "execution_count": 33,
   "id": "87811e67-b1c7-4237-86e0-87c0f3dea72f",
   "metadata": {},
   "outputs": [
    {
     "data": {
      "text/plain": [
       "'\\nWrite a function that removes duplicate elements from a list and returns the new list.\\n'"
      ]
     },
     "execution_count": 33,
     "metadata": {},
     "output_type": "execute_result"
    }
   ],
   "source": [
    "\"\"\"\n",
    "Write a function that removes duplicate elements from a list and returns the new list.\n",
    "\"\"\""
   ]
  },
  {
   "cell_type": "code",
   "execution_count": 36,
   "id": "f30d2510-fa1a-444f-8ea1-bb818c109298",
   "metadata": {},
   "outputs": [
    {
     "data": {
      "text/plain": [
       "{0, 1, 2, 3, 4, 5, 6, 7, 8, 9}"
      ]
     },
     "execution_count": 36,
     "metadata": {},
     "output_type": "execute_result"
    }
   ],
   "source": [
    "def rm_dupli(your_list:list):\n",
    "    r = set(your_list)\n",
    "    return r\n",
    "r = [3,3,5,2,1,7,9,9,9,9,6,5,7,4,3,2,1,6,7,8,9,0]\n",
    "t = rm_dupli(r)\n",
    "t"
   ]
  },
  {
   "cell_type": "code",
   "execution_count": 37,
   "id": "1c8e6994-9a1b-4d1e-b179-a8ba5442abb9",
   "metadata": {},
   "outputs": [
    {
     "data": {
      "text/plain": [
       "'\\nWrite a function that finds common elements between two lists.\\n'"
      ]
     },
     "execution_count": 37,
     "metadata": {},
     "output_type": "execute_result"
    }
   ],
   "source": [
    "\"\"\"\n",
    "Write a function that finds common elements between two lists.\n",
    "\"\"\""
   ]
  },
  {
   "cell_type": "code",
   "execution_count": 50,
   "id": "e1ff12c6-5753-4567-afac-4f1fd0d8c2fa",
   "metadata": {},
   "outputs": [],
   "source": [
    "def common(list1, list2):\n",
    "    i,j = 0,0\n",
    "    commin = []\n",
    "    for i in list1:\n",
    "        for j in list2:\n",
    "            if i == j:\n",
    "                commin.append(i)\n",
    "    return commin\n",
    "        \n",
    "    "
   ]
  },
  {
   "cell_type": "code",
   "execution_count": 51,
   "id": "3c45ae0e-20d2-428a-9b8f-550ef81b0c41",
   "metadata": {},
   "outputs": [
    {
     "data": {
      "text/plain": [
       "[5, 5, 7, 0, 0, 0, 0]"
      ]
     },
     "execution_count": 51,
     "metadata": {},
     "output_type": "execute_result"
    }
   ],
   "source": [
    "your_list = [4,5,2,1,5,7,0,0]\n",
    "your_list1 = [0,9,9,8,7,5,0]\n",
    "g = common(your_list,your_list1)\n",
    "g"
   ]
  },
  {
   "cell_type": "code",
   "execution_count": null,
   "id": "f4e1c57e-a276-4159-a37a-bca7873318d1",
   "metadata": {},
   "outputs": [],
   "source": []
  },
  {
   "cell_type": "code",
   "execution_count": null,
   "id": "aadd01d3-4511-4728-b589-b3a4a9944668",
   "metadata": {},
   "outputs": [],
   "source": []
  },
  {
   "cell_type": "code",
   "execution_count": null,
   "id": "5ec18ca3-15a4-424f-8975-7e3f2f9713fb",
   "metadata": {},
   "outputs": [],
   "source": []
  }
 ],
 "metadata": {
  "kernelspec": {
   "display_name": "Python 3 (ipykernel)",
   "language": "python",
   "name": "python3"
  },
  "language_info": {
   "codemirror_mode": {
    "name": "ipython",
    "version": 3
   },
   "file_extension": ".py",
   "mimetype": "text/x-python",
   "name": "python",
   "nbconvert_exporter": "python",
   "pygments_lexer": "ipython3",
   "version": "3.11.9"
  }
 },
 "nbformat": 4,
 "nbformat_minor": 5
}
